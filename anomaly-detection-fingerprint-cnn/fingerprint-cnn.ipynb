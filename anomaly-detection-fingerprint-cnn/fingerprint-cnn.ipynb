{
 "cells": [
  {
   "cell_type": "markdown",
   "source": [
    "<span style=\"color:####; font-family: sabon; font-size: 2em;\">\n",
    "    <center> Anomaly Detection in Fingerprints using Convolutional NN </center> <br>\n",
    "</span>\n",
    "\n",
    "<span style=\"color:####; font-family: sabon; font-size: 1.6em;\">\n",
    "   <center> Machine Learning </center> <br>\n",
    "    <center> Kevin Emmanuel Soto Hernandez </center> <br>\n",
    "</span>"
   ],
   "metadata": {}
  },
  {
   "cell_type": "code",
   "execution_count": 61,
   "source": [
    "#Librerias para le Red Neuronal\n",
    "import numpy as np\n",
    "from keras import models\n",
    "from keras import layers\n",
    "from keras.utils import to_categorical\n",
    "\n",
    "#Filtracion de archivos\n",
    "import re\n",
    "import os\n",
    "\n",
    "#Graficacción \n",
    "from matplotlib.image import imread\n",
    "import matplotlib.pyplot as plt\n",
    "\n",
    "#Metricas de validación\n",
    "from sklearn.metrics import confusion_matrix, f1_score, matthews_corrcoef\n",
    "from sklearn.metrics import recall_score, precision_score"
   ],
   "outputs": [],
   "metadata": {}
  },
  {
   "cell_type": "code",
   "execution_count": 2,
   "source": [
    "def visualizar_imagen(matrix):\n",
    "    '''\n",
    "    Para visualizar en imagen el expectro de calor de una matriz\n",
    "    \n",
    "    Parámetros\n",
    "    -----------\n",
    "    matrix   :  2-D numpy array \n",
    "    \n",
    "    Regresa\n",
    "    -----------\n",
    "    Imprime imagen de la matriz\n",
    "    '''\n",
    "    fig = plt.figure(figsize=(2.5,2.5))\n",
    "    ax = fig.add_subplot(111)\n",
    "    ax.imshow(matrix, origin=\"upper\", cmap=plt.cm.binary_r )\n",
    "    ax.get_xaxis().set_visible(True)\n",
    "    ax.get_yaxis().set_visible(True)"
   ],
   "outputs": [],
   "metadata": {}
  },
  {
   "cell_type": "code",
   "execution_count": 3,
   "source": [
    "def plot_function(x, y, title, labels):\n",
    "    plt.ylim((0,1))\n",
    "    plt.xlabel(\"Número de época\")\n",
    "    plt.ylabel(title)\n",
    "    plt.grid(True)\n",
    "    plt.title(\"Proceso de entrenamiento de la red neuronal\")\n",
    "    plt.plot(x, color= 'blue')\n",
    "    plt.plot(y, color= 'purple')\n",
    "    plt.legend(labels)\n",
    "    plt.show()"
   ],
   "outputs": [],
   "metadata": {}
  },
  {
   "cell_type": "code",
   "execution_count": 4,
   "source": [
    "def get_Coor(path):\n",
    "    \"\"\"\n",
    "    Obtiene la lista de las coordenadas \n",
    "    de la minutas ubicadas en cada imagen\n",
    "    \n",
    "    Parámetros\n",
    "    ------------\n",
    "    path: directorio donde se encuentran los archivos de las minutas\n",
    "    \"\"\"\n",
    "    os.chdir(path)\n",
    "    minutias = os.listdir()\n",
    "    Coor = []\n",
    "    for minutia in minutias:\n",
    "        with open(minutia, 'r') as f:\n",
    "            lines = f.readlines()\n",
    "            lines = lines[4:]\n",
    "            coor = []\n",
    "            for i in range(len(lines)):\n",
    "                coor.append([int(i) for i in re.findall(r\"[0-9]+\", lines[i])[1:3] ])\n",
    "        Coor.append(coor)\n",
    "    return Coor"
   ],
   "outputs": [],
   "metadata": {}
  },
  {
   "cell_type": "code",
   "execution_count": 5,
   "source": [
    "def get_minutia(name_image, Coor, d, n):\n",
    "    \"\"\"\n",
    "    Obtiene el parche de tamaño nxn de una minuta en una imagen aleatoria de\n",
    "    un fingerprint a través de la perturbacion de las coordenadas de la minuta.\n",
    "    \n",
    "    Parámetros\n",
    "    -----------\n",
    "    name_image : nombre de la imagen fingerprint\n",
    "    Coor : lista devuelta por get_Coor()\n",
    "    d,n : dimensiones de la imagen y del parche respectivamente\n",
    "    \n",
    "    \"\"\"\n",
    "    while True:\n",
    "        perturb = np.random.randint(0, n//3, size=2)\n",
    "        coor = Coor[np.random.randint(0, len(Coor))]\n",
    "        indexes = (coor[0]-perturb[0], coor[1]-perturb[1])\n",
    "        \n",
    "        if 0<= indexes[0] and indexes[0] <= d-n and 0<= indexes[1] and indexes[1] <= d-n:\n",
    "            break\n",
    "    \n",
    "    fingerprint = imread(name_image)\n",
    "    patch = fingerprint[indexes[0]:indexes[0]+n, indexes[1]:indexes[1]+n]\n",
    "    return patch"
   ],
   "outputs": [],
   "metadata": {}
  },
  {
   "cell_type": "code",
   "execution_count": 6,
   "source": [
    "def is_minutia(indexes, Coor, n):\n",
    "    for x, y in Coor:\n",
    "        if indexes[0]<=x and x<=indexes[0]+n and indexes[1]<=y and y<=indexes[1]+n:            \n",
    "            return True\n",
    "    return False"
   ],
   "outputs": [],
   "metadata": {}
  },
  {
   "cell_type": "code",
   "execution_count": 7,
   "source": [
    "def get_notminutia(name_image, Coor, d, n):\n",
    "    \"\"\"\n",
    "    Obtiene el parche de tamaño nxn que no contiene una minuta en una imagen aleatoria de\n",
    "    un fingerprint a través de la perturbacion de las coordenadas de la minuta.\n",
    "    \n",
    "    Parámetros\n",
    "    -----------\n",
    "    name_image : nombre de la imagen fingerprint\n",
    "    Coor : lista devuelta por get_Coor()\n",
    "    d,n : dimensiones de la imagen y del parche respectivamente\n",
    "    \n",
    "    \"\"\"\n",
    "    indexes = np.random.randint(0, d-n, size=2)\n",
    "    while is_minutia(indexes, Coor, n): \n",
    "        indexes = np.random.randint(0, d-n, size=2)\n",
    "        \n",
    "    fingerprint = imread(name_image)\n",
    "    return fingerprint[indexes[0]:indexes[0]+n, indexes[1]:indexes[1]+n]"
   ],
   "outputs": [],
   "metadata": {}
  },
  {
   "cell_type": "code",
   "execution_count": 8,
   "source": [
    "def sample_data(path, Coor, samples, d, n, only_minutias):\n",
    "    os.chdir(path) #directorio de la imagenes\n",
    "    name_images = os.listdir() #lista de nombres de imagenes\n",
    "    random_images = np.random.choice(len(name_images), samples, replace=True)\n",
    "    print(\"Conjunto de parches generados: \", 2*samples)\n",
    "        \n",
    "    #solo para la inicializacion del tensor\n",
    "    Data = np.empty((0,n,n)) \n",
    "    \n",
    "    if only_minutias:\n",
    "        for i in random_images:\n",
    "            patch = get_minutia(name_images[i], Coor[i], d, n)\n",
    "            Data = np.concatenate((Data, patch[None]),axis=0)\n",
    "            patch = get_notminutia(name_images[i], Coor[i], d, n)\n",
    "            Data = np.concatenate((Data, patch[None]),axis=0)\n",
    "    #else:\n",
    "     #   for i in random_images:\n",
    "     #       patch = get_notminutia(name_images[i], Coor[i], d, n)\n",
    "     #       Data = np.concatenate((Data, patch[None]),axis=0)\n",
    "    return Data"
   ],
   "outputs": [],
   "metadata": {}
  },
  {
   "cell_type": "code",
   "execution_count": 76,
   "source": [
    "def metrics(images, real_labels, network):\n",
    "    predicted = network.predict(images)\n",
    "    pred_labels = np.empty(2*samples)\n",
    "    for i in range(predicted2.shape[0]):\n",
    "        pred_labels[i] = 1 if predicted[i][0] < predicted[i][1] else 0\n",
    "\n",
    "    CM = confusion_matrix(real_labels, pred_labels)\n",
    "    errors = 2*samples - np.trace(CM)\n",
    "    print(\"Matriz de confución\\n\",CM,\"\\nTotal de errores:\", errors)\n",
    "    print('Accuracy:', 1-errors/(2*samples))\n",
    "    print(\"F1 Score:\", f1_score(real_labels, pred_labels))\n",
    "    print(\"Matthews Coef:\", matthews_corrcoef(real_labels, pred_labels))\n",
    "    print(\"Precision:\", precision_score(real_labels, pred_labels))\n",
    "    print(\"Recall:\", recall_score(real_labels, pred_labels))\n",
    "    print(\"Specifity:\", CM[0,0]/(CM[0,0]+CM[0,1]))"
   ],
   "outputs": [],
   "metadata": {}
  },
  {
   "cell_type": "code",
   "execution_count": 9,
   "source": [
    "#path principal\n",
    "path = os.getcwd()"
   ],
   "outputs": [],
   "metadata": {}
  },
  {
   "cell_type": "markdown",
   "source": [
    "### Introducción\n",
    "Las redes neuronales convolucionales, también conocidas como _convnets_, son un tipo de modelo de deep learning que se usa casi universalmente en aplicaciones de visión artificial. Las convnets pueden ser usados en los problemas de clasificación de imágenes (como lo será el caso de este pequeño reporte), en particular aquellos que involucran pequeños conjuntos de datos de imagenes, que son el caso de uso más común si no es una gran empresa de tecnología.\n",
    "En este reporte aplicaremos una _covnet_ para el problema de clasificación de una base de datos de minutas obtenidas de imágenes de huellas digitales como en la tarea pasada."
   ],
   "metadata": {}
  },
  {
   "cell_type": "markdown",
   "source": [
    "### Desarrollo\n",
    "\n",
    "#### Generación de la base de datos\n",
    "Primero generamos la base de datos dividiendo las imágenes analizadas con ``MINDTCT`` de la siguiente manera: leemos una imagen de forma aleatoria y seleccionamos un par de coordenadas $(x, y)$ para generar un parche de  $n x n$ desde las coordenadas dadas (digamos de dimensión $28 x 28$ o $32 x 32$ pixeles) y etiquetando cada parche como:\n",
    "\n",
    "* Clase 1: si contienen al menos una minucia detectada con `MINDTCT`\n",
    "* Clase 0: si no la contiene ninguna minucia detectada con `MINDTCT`\n",
    "\n",
    "Así hasta tener nuestro conjunto de datos completo y balaceado (i.e. que existan misma cantidad de datos con clase 1 que con clase 0). Hacemos lo mismo para la base de prueba."
   ],
   "metadata": {}
  },
  {
   "cell_type": "code",
   "execution_count": 10,
   "source": [
    "n = 20 #dimensión de los parches (nxn)\n",
    "d = 300 #dimension de las imagenes (dxd)\n",
    "samples = 5000"
   ],
   "outputs": [],
   "metadata": {}
  },
  {
   "cell_type": "code",
   "execution_count": 11,
   "source": [
    "train_Coor = get_Coor(path+\"/train_min3\")\n",
    "test_Coor = get_Coor(path+\"/test_min3\")"
   ],
   "outputs": [],
   "metadata": {}
  },
  {
   "cell_type": "code",
   "execution_count": 12,
   "source": [
    "#Conjunto de entrenamiento\n",
    "#images1 = sample_data(path+ \"/train_DB3\", train_Coor, samples, d, n, only_minutias=True)\n",
    "#images0 = sample_data(path+ \"/train_DB3\", train_Coor, samples, d, n, only_minutias=False)\n",
    "#train_images = np.r_[images0, images1]\n",
    "train_images = sample_data(path+ \"/train_DB3\", train_Coor, samples, d, n, only_minutias=True)\n",
    "visualizar_imagen(train_images[0])\n",
    "train_images = train_images.reshape(2*samples,n,n,1)/255.0\n",
    "\n",
    "train_labels_ = np.ones(2*samples)\n",
    "train_labels_[1::2] = 0\n",
    "train_labels = to_categorical(train_labels_)"
   ],
   "outputs": [
    {
     "output_type": "stream",
     "name": "stdout",
     "text": [
      "Conjunto de parches generados:  10000\n",
      "[1. 0. 1. ... 0. 1. 0.]\n"
     ]
    }
   ],
   "metadata": {}
  },
  {
   "cell_type": "code",
   "execution_count": 34,
   "source": [
    "#Conjunto de prueba\n",
    "#images1 = sample_data(path+ \"/test_DB3\", test_Coor, samples=samples, d=d, n=n, only_minutias=True)\n",
    "#images0 = sample_data(path+ \"/test_DB3\", test_Coor, samples=samples, d=d, n=n, only_minutias=False)\n",
    "#test_images = np.r_[images0, images1]\n",
    "test_images = sample_data(path+ \"/test_DB3\", test_Coor, samples=samples, d=d, n=n, only_minutias=True)\n",
    "visualizar_imagen(test_images[0])\n",
    "test_images = test_images.reshape(2*samples,n,n,1)/255.0\n",
    "\n",
    "test_labels_ = np.ones(2*samples)\n",
    "test_labels_[1::2] = 0\n",
    "test_labels = to_categorical(test_labels_)"
   ],
   "outputs": [
    {
     "output_type": "stream",
     "name": "stdout",
     "text": [
      "Conjunto de parches generados:  10000\n"
     ]
    },
    {
     "output_type": "display_data",
     "data": {
      "image/png": "[encoded data removed]",
      "text/plain": [
       "<Figure size 180x180 with 1 Axes>"
      ]
     },
     "metadata": {
      "needs_background": "light"
     }
    }
   ],
   "metadata": {}
  },
  {
   "cell_type": "code",
   "execution_count": 36,
   "source": [
    "print(train_images.shape)\n",
    "print(test_images.shape)"
   ],
   "outputs": [
    {
     "output_type": "stream",
     "name": "stdout",
     "text": [
      "(10000, 20, 20, 1)\n",
      "(10000, 20, 20, 1)\n"
     ]
    }
   ],
   "metadata": {}
  },
  {
   "cell_type": "markdown",
   "source": [
    "#### Red Neuronal Convolucional\n",
    "La diferencia fundamental entre una capa densamente conectada y una capa de convolución es la siguiente: las capas densas aprenden patrones globales en su espacio de características de entrada (por ejemplo, para un dígito MNIST, patrones que involucran todos los píxeles), mientras que las capas de convolución aprenden patrones locales (ver figura 1): en el caso de imágenes, patrones encontrados en pequeñas ventanas 2D de las entradas. En el ejemplo debajo, estas ventanas son todas de 3 × 3.\n",
    "\n",
    "![mnist](mnist.PNG)\n",
    "\n",
    "\n",
    "Las _covnets_ tienen dos propiedades fundamentales:\n",
    "\n",
    "* Los patrones que aprenden son invariantes antes la traslación. Es decir, necesitan menos ejemplos de entrenamiento para aprender representaciones y que tienen poder de generalización.\n",
    "\n",
    "* Pueden aprender jerarquías espaciales de patrones (ver figura 2). Una primera capa de convolución aprenderá pequeños patrones locales, como los bordes, una segunda capa de convolución aprenderá patrones más grandes hechos de las características de las primeras capas, y así sucesivamente.\n",
    "\n",
    "![cat](cat.png)\n",
    "\n",
    "Aquí, nuestra red consiste en una secuencia de tres capas convolucionaes con 128, 64 y 64 filtros respectivante. El tamaño del kernel será de tamaño $3x3$ en los tres casos con la idea de que las redes encuentren patrones de minutas en la imagenes a clasificar. Dentro de cada capa convolucional se aplicará un max-pooling que \"recortará\" las imagenes obtenidas a la mitad, esto con la idea de que minumice la cantidad de parámetros en la arquitectura completa. Al final, vectorizamos cada imagen convolucionada y la metemos en una capa de neuronas densamente conectadas (también llamadas totalmente conectadas) con la función de activación \"softmax\" que es clásica en los algoritmos de clasificación de 2 salidas (clase 1 y clase 0), lo que significa que devolverá una matriz de 2 puntuaciones de probabilidad (que se suman 1). Cada puntaje será la probabilidad de que la imagen del dígito actual pertenezca a una de nuestras clases $y_i \\in \\{ 0, 1 \\}$ (minuta o no minuta)."
   ],
   "metadata": {}
  },
  {
   "cell_type": "code",
   "execution_count": 421,
   "source": [
    "network1 = models.Sequential()\n",
    "\n",
    "network1.add(layers.Conv2D(128, kernel_size=(3,3), activation='relu', input_shape=(n, n, 1)))\n",
    "network1.add(layers.MaxPooling2D((2, 2)))\n",
    "\n",
    "network1.add(layers.Conv2D(64, kernel_size=(3,3), activation='relu'))\n",
    "network1.add(layers.MaxPooling2D((2, 2)))\n",
    "\n",
    "network1.add(layers.Conv2D(64, kernel_size=(3,3), activation='relu'))\n",
    "#network.add(layers.MaxPooling2D((2, 2)))\n",
    "\n",
    "network1.add(layers.Flatten())\n",
    "network1.add(layers.Dense(2, activation='softmax'))\n",
    "\n",
    "network1.compile(optimizer='adadelta',\n",
    "                loss='categorical_crossentropy',\n",
    "                metrics=['accuracy'])\n",
    "\n",
    "network1.summary()"
   ],
   "outputs": [
    {
     "output_type": "stream",
     "name": "stdout",
     "text": [
      "_________________________________________________________________\n",
      "Layer (type)                 Output Shape              Param #   \n",
      "=================================================================\n",
      "conv2d_346 (Conv2D)          (None, 18, 18, 128)       1280      \n",
      "_________________________________________________________________\n",
      "max_pooling2d_254 (MaxPoolin (None, 9, 9, 128)         0         \n",
      "_________________________________________________________________\n",
      "conv2d_347 (Conv2D)          (None, 7, 7, 64)          73792     \n",
      "_________________________________________________________________\n",
      "max_pooling2d_255 (MaxPoolin (None, 3, 3, 64)          0         \n",
      "_________________________________________________________________\n",
      "conv2d_348 (Conv2D)          (None, 1, 1, 64)          36928     \n",
      "_________________________________________________________________\n",
      "flatten_89 (Flatten)         (None, 64)                0         \n",
      "_________________________________________________________________\n",
      "dense_124 (Dense)            (None, 2)                 130       \n",
      "=================================================================\n",
      "Total params: 112,130\n",
      "Trainable params: 112,130\n",
      "Non-trainable params: 0\n",
      "_________________________________________________________________\n"
     ]
    }
   ],
   "metadata": {}
  },
  {
   "cell_type": "markdown",
   "source": [
    "Para preparar la red para la capacitación, debemos elegir tres cosas más, como parte del paso de compilación:\n",
    "\n",
    "* **loss:** Una función de pérdida en la cual la red podrá medir su rendimiento en los datos de entrenamiento y, por lo tanto, cómo podrá dirigirse en la dirección correcta.\n",
    "\n",
    "* **optimizer:** Un optimizador cuyo mecanismo tomará la red para actualizar la estructura, basándose en los datos que ve y su función de pérdida.\n",
    "\n",
    "* **metrics:** Métricas para monitorear durante el entrenamiento y las pruebas. Aquí, solo nos importará la precisión (la fracción de las imágenes que se clasificaron correctamente)."
   ],
   "metadata": {}
  },
  {
   "cell_type": "markdown",
   "source": [
    "Antes de entrenar, preprocesaremos los datos cambiándolos a la forma que la red espera y escalando de modo que todos los valores estén en el intervalo [0,1] dividiendo entre el valor del maximo elemento (255). También necesitamos codificar categóricamente las etiquetas con la funcion de Keras ``to_categorical()``. La base de datos es separada en dos partes (8,000 datos), los datos de entrenamiento y los datos de validación (24,000 datos)."
   ],
   "metadata": {}
  },
  {
   "cell_type": "markdown",
   "source": [
    "Ahora estamos listos para entrenar a la red, lo que en Keras se realiza mediante una llamada al método ``fit`` de la red. Aquí, la red utiliza los 8,000 datos en paquetes de 100 (``batch_size``) y se actualiza en 5 epocas. "
   ],
   "metadata": {}
  },
  {
   "cell_type": "code",
   "execution_count": 450,
   "source": [
    "model1 = network1.fit(train_images,\n",
    "                    train_labels,\n",
    "                    epochs=10,\n",
    "                    batch_size=100,\n",
    "                    shuffle=True,\n",
    "                    validation_split=0.1)"
   ],
   "outputs": [
    {
     "output_type": "stream",
     "name": "stdout",
     "text": [
      "Train on 9000 samples, validate on 1000 samples\n",
      "Epoch 1/20\n",
      "9000/9000 [==============================] - 2s 177us/step - loss: 0.6400 - acc: 0.6222 - val_loss: 0.7360 - val_acc: 0.5490\n",
      "Epoch 2/20\n",
      "9000/9000 [==============================] - 1s 144us/step - loss: 0.6392 - acc: 0.6188 - val_loss: 0.6333 - val_acc: 0.7800\n",
      "Epoch 3/20\n",
      "9000/9000 [==============================] - 1s 146us/step - loss: 0.6376 - acc: 0.6189 - val_loss: 0.8145 - val_acc: 0.4320\n",
      "Epoch 4/20\n",
      "9000/9000 [==============================] - 1s 145us/step - loss: 0.6367 - acc: 0.6244 - val_loss: 0.6592 - val_acc: 0.7670\n",
      "Epoch 5/20\n",
      "9000/9000 [==============================] - 1s 146us/step - loss: 0.6366 - acc: 0.6299 - val_loss: 0.7692 - val_acc: 0.5410\n",
      "Epoch 6/20\n",
      "9000/9000 [==============================] - 1s 145us/step - loss: 0.6355 - acc: 0.6284 - val_loss: 0.7688 - val_acc: 0.6130\n",
      "Epoch 7/20\n",
      "9000/9000 [==============================] - 1s 145us/step - loss: 0.6346 - acc: 0.6317 - val_loss: 0.6997 - val_acc: 0.6580\n",
      "Epoch 8/20\n",
      "9000/9000 [==============================] - 1s 147us/step - loss: 0.6327 - acc: 0.6341 - val_loss: 0.6809 - val_acc: 0.6760\n",
      "Epoch 9/20\n",
      "9000/9000 [==============================] - 1s 155us/step - loss: 0.6307 - acc: 0.6379 - val_loss: 0.7777 - val_acc: 0.5340\n",
      "Epoch 10/20\n",
      "9000/9000 [==============================] - 1s 153us/step - loss: 0.6292 - acc: 0.6384 - val_loss: 0.7880 - val_acc: 0.5560\n",
      "Epoch 11/20\n",
      "9000/9000 [==============================] - 1s 146us/step - loss: 0.6273 - acc: 0.6418 - val_loss: 0.7596 - val_acc: 0.5670\n",
      "Epoch 12/20\n",
      "9000/9000 [==============================] - 1s 153us/step - loss: 0.6245 - acc: 0.6433 - val_loss: 0.8230 - val_acc: 0.4460\n",
      "Epoch 13/20\n",
      "9000/9000 [==============================] - 1s 166us/step - loss: 0.6223 - acc: 0.6494 - val_loss: 0.6835 - val_acc: 0.6910\n",
      "Epoch 14/20\n",
      "9000/9000 [==============================] - 1s 151us/step - loss: 0.6198 - acc: 0.6526 - val_loss: 0.7739 - val_acc: 0.5580\n",
      "Epoch 15/20\n",
      "9000/9000 [==============================] - 1s 151us/step - loss: 0.6192 - acc: 0.6537 - val_loss: 0.7413 - val_acc: 0.6040\n",
      "Epoch 16/20\n",
      "9000/9000 [==============================] - 1s 164us/step - loss: 0.6153 - acc: 0.6594 - val_loss: 0.7953 - val_acc: 0.5750\n",
      "Epoch 17/20\n",
      "9000/9000 [==============================] - 1s 151us/step - loss: 0.6128 - acc: 0.6577 - val_loss: 0.8113 - val_acc: 0.4890\n",
      "Epoch 18/20\n",
      "9000/9000 [==============================] - 1s 145us/step - loss: 0.6103 - acc: 0.6617 - val_loss: 0.7452 - val_acc: 0.5490\n",
      "Epoch 19/20\n",
      "9000/9000 [==============================] - 1s 145us/step - loss: 0.6081 - acc: 0.6680 - val_loss: 0.9164 - val_acc: 0.2900\n",
      "Epoch 20/20\n",
      "9000/9000 [==============================] - 1s 145us/step - loss: 0.6045 - acc: 0.6703 - val_loss: 0.6498 - val_acc: 0.7250\n"
     ]
    }
   ],
   "metadata": {
    "scrolled": true
   }
  },
  {
   "cell_type": "code",
   "execution_count": 355,
   "source": [
    "plot_function(model1.history['acc'], model1.history['val_acc'], '% exatitud', ['train_images', 'val_images'])\n",
    "plot_function(model1.history['loss'], model1.history['val_loss'], 'loss function', ['train_images', 'val_images'])"
   ],
   "outputs": [
    {
     "output_type": "display_data",
     "data": {
      "image/png": "[encoded data removed]",
      "text/plain": [
       "<Figure size 432x288 with 1 Axes>"
      ]
     },
     "metadata": {
      "needs_background": "light"
     }
    },
    {
     "output_type": "display_data",
     "data": {
      "image/png": "[encoded data removed]",
      "text/plain": [
       "<Figure size 432x288 with 1 Axes>"
      ]
     },
     "metadata": {
      "needs_background": "light"
     }
    }
   ],
   "metadata": {
    "scrolled": true
   }
  },
  {
   "cell_type": "markdown",
   "source": [
    "Probamos la exactitud de la red con los datos de prueba."
   ],
   "metadata": {}
  },
  {
   "cell_type": "code",
   "execution_count": 74,
   "source": [
    "metrics(test_images, test_labels_, network1)"
   ],
   "outputs": [
    {
     "output_type": "stream",
     "name": "stdout",
     "text": [
      "Matriz de confución\n",
      " [[2360 2640]\n",
      " [1948 3052]] \n",
      "Total de errores: 4588\n",
      "Accuracy: 0.5412\n",
      "F1 Score: 0.5708941264496821\n",
      "Matthews Coef: 0.08320068904540917\n",
      "Precision: 0.5361911454673226\n",
      "Recall: 0.6104\n",
      "Specifity: 0.472\n"
     ]
    }
   ],
   "metadata": {}
  },
  {
   "cell_type": "markdown",
   "source": [
    "Observamos que la red entra en una fase de overfitting alrededor de la epoca 25, por lo que podemos mejorar el proceso de aprendizaje agregando una función \"dropout\" para evitar el overfitting temprano. _Dropout_ es una técnica en la que las neuronas seleccionadas al azar se ignoran durante el entrenamiento. Estas son \"desactivadas\" al azar, en nuestro caso desactivaremos un 30% de la neuronas. Esto significa que su contribución a la activación de las neuronas posteriores se elimina temporalmente en el pase hacia adelante y las actualizaciones de peso no se aplican a la neurona en el pase hacia atrás. Usando la misma arquitectura anterior y los mismos parámetros de inicialización nos queda:"
   ],
   "metadata": {}
  },
  {
   "cell_type": "code",
   "execution_count": 26,
   "source": [
    "network2 = models.Sequential()\n",
    "\n",
    "network2.add(layers.Conv2D(256, kernel_size=(3,3), activation='relu', input_shape=(n, n, 1)))\n",
    "#network2.add(layers.Dropout(0.3))\n",
    "network2.add(layers.MaxPooling2D((2, 2)))\n",
    "network2.add(layers.BatchNormalization())\n",
    "\n",
    "network2.add(layers.Conv2D(128, kernel_size=(3,3), activation='relu'))\n",
    "network2.add(layers.Dropout(0.5))\n",
    "network2.add(layers.MaxPooling2D((2, 2)))\n",
    "#network2.add(layers.BatchNormalization())\n",
    "\n",
    "network2.add(layers.Conv2D(64, kernel_size=(3,3), activation='relu'))\n",
    "#network2.add(layers.MaxPooling2D((2, 2)))\n",
    "#network2.add(layers.BatchNormalization())\n",
    "\n",
    "network2.add(layers.Flatten())\n",
    "network2.add(layers.Dropout(0.3))\n",
    "network2.add(layers.Dense(2, activation='softmax'))\n",
    "\n",
    "network2.compile(optimizer='adadelta',\n",
    "                loss='categorical_crossentropy',\n",
    "                metrics=['accuracy'])\n",
    "\n",
    "network2.summary()"
   ],
   "outputs": [
    {
     "output_type": "stream",
     "name": "stdout",
     "text": [
      "_________________________________________________________________\n",
      "Layer (type)                 Output Shape              Param #   \n",
      "=================================================================\n",
      "conv2d_13 (Conv2D)           (None, 18, 18, 256)       2560      \n",
      "_________________________________________________________________\n",
      "max_pooling2d_9 (MaxPooling2 (None, 9, 9, 256)         0         \n",
      "_________________________________________________________________\n",
      "batch_normalization_2 (Batch (None, 9, 9, 256)         1024      \n",
      "_________________________________________________________________\n",
      "conv2d_14 (Conv2D)           (None, 7, 7, 128)         295040    \n",
      "_________________________________________________________________\n",
      "dropout_6 (Dropout)          (None, 7, 7, 128)         0         \n",
      "_________________________________________________________________\n",
      "max_pooling2d_10 (MaxPooling (None, 3, 3, 128)         0         \n",
      "_________________________________________________________________\n",
      "conv2d_15 (Conv2D)           (None, 1, 1, 64)          73792     \n",
      "_________________________________________________________________\n",
      "flatten_5 (Flatten)          (None, 64)                0         \n",
      "_________________________________________________________________\n",
      "dropout_7 (Dropout)          (None, 64)                0         \n",
      "_________________________________________________________________\n",
      "dense_5 (Dense)              (None, 2)                 130       \n",
      "=================================================================\n",
      "Total params: 372,546\n",
      "Trainable params: 372,034\n",
      "Non-trainable params: 512\n",
      "_________________________________________________________________\n"
     ]
    }
   ],
   "metadata": {}
  },
  {
   "cell_type": "code",
   "execution_count": 27,
   "source": [
    "network2.compile(optimizer='adadelta',\n",
    "                loss='categorical_crossentropy',\n",
    "                metrics=['accuracy'])\n",
    "\n",
    "model2 = network2.fit(train_images,\n",
    "                    train_labels,\n",
    "                    epochs=30,\n",
    "                    batch_size=50,\n",
    "                    shuffle=True,\n",
    "                    validation_split=0.1)"
   ],
   "outputs": [
    {
     "output_type": "stream",
     "name": "stdout",
     "text": [
      "Train on 9000 samples, validate on 1000 samples\n",
      "Epoch 1/30\n",
      "9000/9000 [==============================] - 3s 343us/step - loss: 0.6899 - acc: 0.5841 - val_loss: 0.6894 - val_acc: 0.5380\n",
      "Epoch 2/30\n",
      "9000/9000 [==============================] - 2s 254us/step - loss: 0.6683 - acc: 0.6037 - val_loss: 0.6850 - val_acc: 0.5850\n",
      "Epoch 3/30\n",
      "9000/9000 [==============================] - 2s 250us/step - loss: 0.6670 - acc: 0.6073 - val_loss: 0.6705 - val_acc: 0.6090\n",
      "Epoch 4/30\n",
      "9000/9000 [==============================] - 2s 249us/step - loss: 0.6610 - acc: 0.6123 - val_loss: 0.6708 - val_acc: 0.6050\n",
      "Epoch 5/30\n",
      "9000/9000 [==============================] - 2s 253us/step - loss: 0.6573 - acc: 0.6194 - val_loss: 0.6659 - val_acc: 0.6060\n",
      "Epoch 6/30\n",
      "9000/9000 [==============================] - 2s 252us/step - loss: 0.6538 - acc: 0.6202 - val_loss: 0.6551 - val_acc: 0.6160- loss: 0\n",
      "Epoch 7/30\n",
      "9000/9000 [==============================] - 2s 255us/step - loss: 0.6476 - acc: 0.6340 - val_loss: 0.6685 - val_acc: 0.6040\n",
      "Epoch 8/30\n",
      "9000/9000 [==============================] - 2s 252us/step - loss: 0.6472 - acc: 0.6350 - val_loss: 0.6560 - val_acc: 0.6210\n",
      "Epoch 9/30\n",
      "9000/9000 [==============================] - 2s 252us/step - loss: 0.6417 - acc: 0.6371 - val_loss: 0.6708 - val_acc: 0.5840\n",
      "Epoch 10/30\n",
      "9000/9000 [==============================] - 2s 252us/step - loss: 0.6353 - acc: 0.6452 - val_loss: 0.6750 - val_acc: 0.5920\n",
      "Epoch 11/30\n",
      "9000/9000 [==============================] - 2s 256us/step - loss: 0.6299 - acc: 0.6476 - val_loss: 0.6656 - val_acc: 0.6040\n",
      "Epoch 12/30\n",
      "9000/9000 [==============================] - 2s 252us/step - loss: 0.6238 - acc: 0.6568 - val_loss: 0.6609 - val_acc: 0.6170\n",
      "Epoch 13/30\n",
      "9000/9000 [==============================] - 2s 255us/step - loss: 0.6180 - acc: 0.6643 - val_loss: 0.6680 - val_acc: 0.5940\n",
      "Epoch 14/30\n",
      "9000/9000 [==============================] - 2s 254us/step - loss: 0.6067 - acc: 0.6777 - val_loss: 0.6695 - val_acc: 0.5820\n",
      "Epoch 15/30\n",
      "9000/9000 [==============================] - 2s 251us/step - loss: 0.6032 - acc: 0.6738 - val_loss: 0.6560 - val_acc: 0.6160 - loss: 0.5993 - \n",
      "Epoch 16/30\n",
      "9000/9000 [==============================] - 2s 254us/step - loss: 0.5924 - acc: 0.6892 - val_loss: 0.6621 - val_acc: 0.6030\n",
      "Epoch 17/30\n",
      "9000/9000 [==============================] - 2s 262us/step - loss: 0.5820 - acc: 0.6951 - val_loss: 0.6623 - val_acc: 0.5890\n",
      "Epoch 18/30\n",
      "9000/9000 [==============================] - 2s 251us/step - loss: 0.5807 - acc: 0.6960 - val_loss: 0.6826 - val_acc: 0.5630\n",
      "Epoch 19/30\n",
      "9000/9000 [==============================] - 2s 254us/step - loss: 0.5732 - acc: 0.7071 - val_loss: 0.6603 - val_acc: 0.6160\n",
      "Epoch 20/30\n",
      "9000/9000 [==============================] - 2s 257us/step - loss: 0.5628 - acc: 0.7128 - val_loss: 0.6887 - val_acc: 0.6110\n",
      "Epoch 21/30\n",
      "9000/9000 [==============================] - 2s 262us/step - loss: 0.5555 - acc: 0.7120 - val_loss: 0.6550 - val_acc: 0.6200\n",
      "Epoch 22/30\n",
      "9000/9000 [==============================] - 2s 260us/step - loss: 0.5468 - acc: 0.7240 - val_loss: 0.6630 - val_acc: 0.5920\n",
      "Epoch 23/30\n",
      "9000/9000 [==============================] - 2s 255us/step - loss: 0.5397 - acc: 0.7316 - val_loss: 0.6701 - val_acc: 0.6060\n",
      "Epoch 24/30\n",
      "9000/9000 [==============================] - 2s 254us/step - loss: 0.5215 - acc: 0.7390 - val_loss: 0.6821 - val_acc: 0.5770\n",
      "Epoch 25/30\n",
      "9000/9000 [==============================] - 2s 252us/step - loss: 0.5192 - acc: 0.7419 - val_loss: 0.6798 - val_acc: 0.5980\n",
      "Epoch 26/30\n",
      "9000/9000 [==============================] - 2s 251us/step - loss: 0.5072 - acc: 0.7498 - val_loss: 0.6734 - val_acc: 0.6110\n",
      "Epoch 27/30\n",
      "9000/9000 [==============================] - 2s 252us/step - loss: 0.5028 - acc: 0.7542 - val_loss: 0.6814 - val_acc: 0.5970\n",
      "Epoch 28/30\n",
      "9000/9000 [==============================] - 2s 252us/step - loss: 0.4947 - acc: 0.7566 - val_loss: 0.6973 - val_acc: 0.5770\n",
      "Epoch 29/30\n",
      "9000/9000 [==============================] - 2s 256us/step - loss: 0.4830 - acc: 0.7632 - val_loss: 0.6930 - val_acc: 0.6100\n",
      "Epoch 30/30\n",
      "9000/9000 [==============================] - 2s 258us/step - loss: 0.4751 - acc: 0.7750 - val_loss: 0.7097 - val_acc: 0.5830\n"
     ]
    }
   ],
   "metadata": {
    "scrolled": true
   }
  },
  {
   "cell_type": "code",
   "execution_count": 98,
   "source": [
    "plot_function(model2.history['acc'], model2.history['val_acc'], '% exatitud', ['train_images', 'val_images'])"
   ],
   "outputs": [
    {
     "output_type": "display_data",
     "data": {
      "image/png": "[encoded data removed]",
      "text/plain": [
       "<Figure size 432x288 with 1 Axes>"
      ]
     },
     "metadata": {
      "needs_background": "light"
     }
    }
   ],
   "metadata": {}
  },
  {
   "cell_type": "code",
   "execution_count": 99,
   "source": [
    "plot_function(model2.history['loss'], model2.history['val_loss'], 'loss function', ['train_images', 'val_images'])"
   ],
   "outputs": [
    {
     "output_type": "display_data",
     "data": {
      "image/png": "[encoded data removed]",
      "text/plain": [
       "<Figure size 432x288 with 1 Axes>"
      ]
     },
     "metadata": {
      "needs_background": "light"
     }
    }
   ],
   "metadata": {}
  },
  {
   "cell_type": "code",
   "execution_count": 77,
   "source": [
    "metrics(test_images, test_labels_, network2)"
   ],
   "outputs": [
    {
     "output_type": "stream",
     "name": "stdout",
     "text": [
      "Matriz de confución\n",
      " [[3658 1342]\n",
      " [ 580 4420]] \n",
      "Total de errores: 1922\n",
      "Accuracy: 0.8078\n",
      "F1 Score: 0.821408660100353\n",
      "Matthews Coef: 0.622875877969736\n",
      "Precision: 0.767094758764318\n",
      "Recall: 0.884\n",
      "Specifity: 0.7316\n"
     ]
    }
   ],
   "metadata": {}
  },
  {
   "cell_type": "markdown",
   "source": [
    "#### Conclusiones\n",
    "La exactitud en la predicción de las clases del conjunto de datos de validación resultó ser del 54.41% y del 80.78% para la red convolucional y la red con regularizacipon respectivamente. Esta brecha entre la exactitud del entrenamiento y la predicción en los datos de prueba es un ejemplo de un equilibrio entre ambas metricas, por lo que podemos decir que nuetro modelo carece de overfitting en al menos un numéro dado de epocas para la red, dejenos explicar esto último de manera expedita. Observe las graficas del proceso de entrenamiento para ambas redes neuronales, la primera impresión es que en la red sin regularización alcanza el overfitting alrededor de la epoca 20, mientras que la red con regularización la alcanza alrededor de la epoca 50. Esto indica que nuestro modelo de entrenamiento al solo seleccionar parte de las neuronas está cobrando el efecto esperado y al final los apuntes en las metricas de validación lo reafirman.\n",
    "\n",
    "Otra observación remarcable es la alta dependencia de la red neuronal convolucional a los parámetros de entrada (número de epocas, batch_size, total de datos, etc.) que fue la parte más dificil de este pequeño reporte: encontrar los parámetros ideales. En ciertas ocaciones, de hecho, nuestro modelo alcanzaba un ``accuracy`` de 0.0% aunque las clases de la etiquetas estuvieran valanzeadas; un fénomeno que hasta la fecha no logramos explicar. Tambien está el problema de la minutas, resulta que la aplicación del programa de la NBIST cuenta con falsos positivos y al seleccionarlos arruina la precisión de nuetra red neuronal, pero no podemos hacer nada más en este aspecto (no sabemos aún como). Por esto, creemos que nuestros resultados son satisfactorios (más de lo esperado). Para explicar este extraño fenomeno, habría que investigar de una manera más detallada, como funcionan estas redes neuronales implementadas en Keras."
   ],
   "metadata": {}
  },
  {
   "cell_type": "code",
   "execution_count": null,
   "source": [],
   "outputs": [],
   "metadata": {}
  }
 ],
 "metadata": {
  "kernelspec": {
   "display_name": "Python 3",
   "language": "python",
   "name": "python3"
  },
  "language_info": {
   "codemirror_mode": {
    "name": "ipython",
    "version": 3
   },
   "file_extension": ".py",
   "mimetype": "text/x-python",
   "name": "python",
   "nbconvert_exporter": "python",
   "pygments_lexer": "ipython3",
   "version": "3.6.7"
  }
 },
 "nbformat": 4,
 "nbformat_minor": 2
}