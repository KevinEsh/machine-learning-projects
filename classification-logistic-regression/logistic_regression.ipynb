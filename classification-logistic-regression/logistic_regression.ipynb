{
 "cells": [
  {
   "cell_type": "markdown",
   "source": [
    "<span style=\"color:####; font-family: sabon; font-size: 3em;\">\n",
    "    <center> Logistic Regression </center> <br>\n",
    "</span>\n",
    "\n",
    "<span style=\"color:####; font-family: sabon; font-size: 2.5em;\">\n",
    "   <center> Machine Learning </center> <br>\n",
    "    <center> Kevin Emmanuel Soto Hernandez </center> <br>\n",
    "</span>"
   ],
   "metadata": {}
  },
  {
   "cell_type": "code",
   "execution_count": 1,
   "source": [
    "from keras.datasets import mnist\n",
    "import matplotlib.pyplot as plt\n",
    "from sklearn.decomposition import NMF\n",
    "import matplotlib.image as mpimg\n",
    "import numpy as np\n",
    "import sys\n",
    "%matplotlib inline"
   ],
   "outputs": [
    {
     "output_type": "stream",
     "name": "stderr",
     "text": [
      "Using TensorFlow backend.\n"
     ]
    }
   ],
   "metadata": {
    "scrolled": true
   }
  },
  {
   "cell_type": "code",
   "execution_count": 2,
   "source": [
    "(X_train, y_train), (X_test, y_test) = mnist.load_data()"
   ],
   "outputs": [],
   "metadata": {}
  },
  {
   "cell_type": "code",
   "execution_count": 468,
   "source": [
    "def progressBar(value, endvalue, bar_length=20):\n",
    "\n",
    "        percent = float(value) / endvalue\n",
    "        arrow = '-' * int(round(percent * bar_length)-1) + '>'\n",
    "        spaces = ' ' * (bar_length - len(arrow))\n",
    "\n",
    "        sys.stdout.write(\"\\rPercent: [{0}] {1}%\".format(arrow + spaces, int(round(percent * 100))))\n",
    "        sys.stdout.flush()"
   ],
   "outputs": [],
   "metadata": {}
  },
  {
   "cell_type": "markdown",
   "source": [
    "**Ejercicio 1.** Implemente en Python algoritmos para resolver la regresi´on logística\n",
    "$$ \\hat{y_i} = \\sigma( w^Tx_i) = \\frac{1}{ 1+ exp(-w^Tx_i)} $$\n",
    "para datos $x_i = (1, x_i) \\in \\mathbb{R}^{n+1}$, $y_i\\in \\{0,1\\}$, y vector de parámetros $w = (w_0, w_1, \\dots , w_n) \\in \\mathbb{R}{n+1}$ mediante la siguiente estrategia:\n",
    "\n",
    "Maximizando la verosimilitud conrespecto al vector de pesos $w$:\n",
    "$$ \\max \\limits_w p(y|w) = \\prod \\limits_{i=1}^n \\sigma_i^{y_i} (1 -\\sigma_i)^{1-y_i}  $$\n",
    "donde $ y= (y_1, y_2, \\dots, y_n)^T$\n",
    "Adicionalmente, implemente una función ``predict`` que, dado un juego de datos ``X``, prediga las etiquetas $\\hat{y}$ usando su modelo de regresión logística.\n",
    "\n",
    "_------------------------------------------------------------------------------------------------------------------------------------------------------------------------------------------------------------------_\n",
    "\n",
    "Como es usual, definimos una función de error tomando el logaritmo negativo de la función de verosimilitud, lo cual da la función de cross-entropy en la forma:\n",
    "\n",
    "$$E(w) = -ln p(y|w) = - \\sum \\limits_{i=1}^n y_i ln \\sigma_i + (1-y_i) ln (1-\\sigma_i) $$\n",
    "\n",
    "donde $\\sigma_i = \\sigma(w^Tx_i)$.\n",
    "\n",
    "Esta función será la que tomaremos para optimizar nuestro vector de pesos $w$. Note que el mismo vector $w^*$ es aquel que maximizan la verosimil. Calculando el gradiente de la función de error con respecto a $w$ obtenemos:\n",
    "\n",
    "$$\\nabla E(w) = -\\sum \\limits_{i=1}^n \\frac{y_i}{\\sigma_i} \\sigma_i (1-\\sigma_i)x_i - \\frac{1-y_i}{1-\\sigma_i} \\sigma_i (1-\\sigma_i)x_i$$\n",
    "\n",
    "$$ \\nabla E(w) = -\\sum \\limits_{i=1}^n y_ix_i - \\sigma_i x_i  $$\n",
    "$$ \\nabla E(w) = \\sum \\limits_{i=1}^n (\\sigma_i - y_i) x_i  $$\n",
    "\n",
    "donde hemos usado el hecho de que $$\\frac{d\\sigma}{dw} = \\sigma(1-\\sigma)x_i$$. \n",
    "\n",
    "En particular, la contribución al gradiente por el punto $x_i$ en los datos viene dada por el \"error\" $\\sigma_i - y_i $ entre el valor de la etiqueta y la predicción del modelo. \n",
    "Podríamos utilizar el resultado anterior para dar un algoritmo secuencial en el que cada uno de los vectores de peso se actualiza usando:\n",
    "\n",
    "$$ w_{k+1} = w_k - \\alpha \\nabla E(w_k) $$\n",
    "\n",
    "siguiendo el descenso de gradiente simple. Pero nosotros optamos por otra medida más óptima e implementaremos la modificación con Nesterov. \n",
    "\n",
    "Primero definimos la función sigmoide y la funcion de error cuadrático."
   ],
   "metadata": {}
  },
  {
   "cell_type": "code",
   "execution_count": 59,
   "source": [
    "def sigmoid(x):\n",
    "    '''\n",
    "    Función sigmoide \n",
    "    \n",
    "    Parámetro\n",
    "    ----------- \n",
    "    x : float\n",
    "    \n",
    "    Regresa\n",
    "    -----------\n",
    "    El valor la función sigmoide evaluado en x \n",
    "    '''\n",
    "    return 1/(1 + np.exp(-x))"
   ],
   "outputs": [],
   "metadata": {}
  },
  {
   "cell_type": "code",
   "execution_count": 525,
   "source": [
    "def error(w, X, y):\n",
    "    '''\n",
    "    Función de error cuadrático\n",
    "    \n",
    "    Parámetro\n",
    "    ----------- \n",
    "    w  :  1-D numpy array de dimensión (d+1)x1 (vector de pesos)\n",
    "    X  :  2-D numpy array de dimensión nx(d+1) (matriz de datos)\n",
    "    y  :  1-D numpy array de dimensión nx1 (vector de etiquetas)\n",
    "    \n",
    "    Regresa\n",
    "    -----------\n",
    "    El valor de la suma del erro cuadrado en la predicción evaluado en w \n",
    "    '''\n",
    "    n, d = X.shape\n",
    "    E = 0 #solo para inicializar el valor\n",
    "    for i in range(n): #iteramos sobre las etiquetas\n",
    "        E +=  (y[i] - sigmoid(np.dot(w, X[i,:])) )**2\n",
    "    return E"
   ],
   "outputs": [],
   "metadata": {}
  },
  {
   "cell_type": "markdown",
   "source": [
    "Después una función que regrese el gradiente de la función cross-entropy que puede ser evaluado en cualquier punto $w_k$"
   ],
   "metadata": {}
  },
  {
   "cell_type": "code",
   "execution_count": 503,
   "source": [
    "def grad(w, X, y):\n",
    "    '''\n",
    "    Gradiente de la función -ln(p(y|w)) \"Cross-Entropy\"\n",
    "    \n",
    "    Parámetros\n",
    "    -----------\n",
    "    w  :  1-D numpy array de dimensión (d+1)x1 (vector de pesos)\n",
    "    X  :  2-D numpy array de dimensión nx(d+1) (matriz de datos)\n",
    "    y  :  1-D numpy array de dimensión nx1 (vector de etiquetas)\n",
    "    \n",
    "    Regresa\n",
    "    -----------\n",
    "    En  :  1-D numpy array de dimensión rxm\n",
    "    '''\n",
    "    n, d = X.shape\n",
    "    En = np.zeros(d) #solo para inicializar el vector\n",
    "    for i in range(n): #iteramos sobre las etiquetas\n",
    "        En += ( sigmoid(np.dot(w, X[i,:])) - y[i] ) * X[i,:]\n",
    "    return En"
   ],
   "outputs": [],
   "metadata": {}
  },
  {
   "cell_type": "markdown",
   "source": [
    "Aplicar el algoritmo descenso de gradiente versión Nesterov es relativamente sencillo en este punto. Proponemos dos criterios de parada del algoritmo: 1) la norma del gradiente debe de ser menor a una tolerancia $\\lVert \\nabla E(w) \\rVert < \\epsilon$; 2) un número máximo de iteraciones (``max_iter = 50`` por defecto para evitar el overfitting)."
   ],
   "metadata": {}
  },
  {
   "cell_type": "code",
   "execution_count": 555,
   "source": [
    "def GDNesterov(X, y, alpha = 1e-5, epsilon = 1e-3, eta = 2, max_iter = 50):\n",
    "    \"\"\"\n",
    "    Descenso de Gradiente Nesterov\n",
    "    \n",
    "    Parámetros\n",
    "    -----------\n",
    "    X  :  2-D numpy array de dimensión (n+1)x1 (matriz de datos)\n",
    "    y  :  1-D numpy array de dimensión nx1 (vector de etiquetas)\n",
    "    alpha :  int - tamaño de paso\n",
    "    epsilon : int - parámetro de parada del gradiente\n",
    "    eta : int - parametro del Nesterov\n",
    "    max_iter : int - número maximo de iterciones antes de detener el algoritmo.\n",
    "    \n",
    "    Regresa\n",
    "    -----------\n",
    "    w  :  1-D numpy array de dimensión dx1 (vector de pesos)\n",
    "    \"\"\"\n",
    "    iter = 0\n",
    "    \n",
    "    #vector de pesos inicializado aleatoriamente.\n",
    "    w = np.random.rand(X.shape[1])\n",
    "    \n",
    "    # Optimización\n",
    "    while(True):\n",
    "        iter+=1\n",
    "        Grad = grad(w,X,y)\n",
    "        \n",
    "        # Nesterov\n",
    "        w = w - alpha*( grad(w-2*alpha*Grad, X, y) + (eta+1)*Grad )\n",
    "        \n",
    "        # Gradiente Simple\n",
    "        #w = w - alpha*Grad \n",
    "        \n",
    "        if iter > max_iter or np.linalg.norm(Grad) < epsilon: \n",
    "            break\n",
    "    return w"
   ],
   "outputs": [],
   "metadata": {}
  },
  {
   "cell_type": "markdown",
   "source": [
    "Finalmente implementamos una función general para la regresión logistica que recibe una matriz de datos ``X`` con los datos $x_i$ componiendo las filas de la matriz; y un vector ``y`` con las etiquetas respectivas de cada dato. Esta función agrega a la matriz de datos una columna de $1$'s (correspondientes al valor del peso $w_0$). Despues, usa el algoritmo de Nesterov para calcular el vector de pesos que minimizan la función de verosimiltud, y con éstos predice las etiquetas del modelo de clasificación en la función ``predict`` (la función ``predict`` se implementa primero antes de ``Logistic_Regression`` por conveniencia en la secuencialidad del código).  "
   ],
   "metadata": {}
  },
  {
   "cell_type": "code",
   "execution_count": 155,
   "source": [
    "def predict(w, X):\n",
    "    '''\n",
    "    Función de predicción de clases con Logistic_Regression\n",
    "    \n",
    "    Parámetros\n",
    "    -----------\n",
    "    w  : 1-D numpy array (vector de pesos obtenidos de Logistic_Regression)\n",
    "    X  : 2-D numpy array (matriz de datos a asignar las etiquetas)\n",
    "    \n",
    "    Regresa\n",
    "    -----------\n",
    "    predictions : 1-D numpy array (vector con las predicciones de las clases para los datos x_i)\n",
    "    '''\n",
    "    predictions = sigmoid(np.sum(X*w, axis=1))\n",
    "    predictions[predictions <= 0.5] = 0\n",
    "    predictions[predictions > 0.5] = 1\n",
    "    return predictions.astype(int)"
   ],
   "outputs": [],
   "metadata": {}
  },
  {
   "cell_type": "code",
   "execution_count": 551,
   "source": [
    "def Logistic_Regression(X, y, alpha = 1e-3, max_iter = 50):\n",
    "    '''\n",
    "    Regresión Logística\n",
    "    \n",
    "    Parámetros\n",
    "    -----------\n",
    "    X  :  2-D numpy array de dimensión (n+1)x1 (matriz de datos)\n",
    "    y  :  1-D numpy array de dimensión nx1 (vector de etiquetas)\n",
    "    \n",
    "    Regresa\n",
    "    -----------\n",
    "    predictions : 1-D numpy array (vector con las predicciones de las clases para los datos x_i)\n",
    "    w  : 1-D numpy array (vector de pesos obtenidos de Logistic_Regression)\n",
    "    '''\n",
    "    n, d = X.shape\n",
    "    if (n,) != y.shape: \n",
    "        print(\"Dimensiones de datos no corresponde a dimension de las etiquetas\")\n",
    "        return None\n",
    "    X = np.append(np.ones(n).reshape(n,1), X, axis = 1)\n",
    "    w = GDNesterov(X, y, alpha, max_iter=max_iter)\n",
    "    predictions = predict(w, X)\n",
    "    return (predictions, w/np.linalg.norm(w))"
   ],
   "outputs": [],
   "metadata": {}
  },
  {
   "cell_type": "markdown",
   "source": [
    "**Ejercicio 2.** Considere de nuevo la base de datos MNIST. Elija dos dígitos distintos entre 0 y 9 (a su gusto), y tome 1200 imágenes del primer dígito, y 1200 imágenes del segundo dígito. De cada grupo, separe 1000 para entrenamiento y 200 para validación.\n",
    "Re-utilizando su código de la tarea 1, construya una matriz no negativa de 2000 columnas, Sea\n",
    "A 2 R784×2000 a partir de las 2000 im´agenes elegidas. Luego, encuentre una descomposición NNMF\n",
    "\n",
    "$$A=WH$$\n",
    "\n",
    "con $W \\in \\mathbb{R}^{784×r}$, $H \\in \\mathbb{R}^{r×2000}$, matrices no-negativas.\n",
    "\n",
    "Las 2000 columnas de la $H$ obtenida, corresponderán a vectores característicos $x_i \\in \\mathbb{R}^r$ de cada una de las imágenes elegidas $1 ≤ i ≤ 2000$, pero ahora en un espacio de dimensión menor $r << 784$. Tome como caso base $r = 20$.\n",
    "* Utilice estos vectores $x_i$ como las entradas de su clasificador de regresión logística.\n",
    "* Calcule métricas de desempeño (las que considere convenientes), tanto para el conjunto de entrenamiento como para el de validación.\n",
    "* Repita esto un cierto número de veces, tomando en cada caso, una muestra diferente de las 2000 imágenes (mismos dígitos, diferentes muestras de imágenes). ¿Varía el error de entrenamiento? ¿Y el de validación? ¿Cuánto?\n",
    "* Elabore gráficas del desempeño de su métodos, y gráficas del resultado de la clasificación (ejemplos de falsos positivos y falsos negativos, si es el caso). Discuta sus resultados.\n",
    "\n",
    "_------------------------------------------------------------------------------------------------------------------------------------------------------------------------------------------------------------------_"
   ],
   "metadata": {}
  },
  {
   "cell_type": "markdown",
   "source": [
    "``X_train`` es un 3-D numpy array de dimensiones $(6000,28,28)$ con todas las imagenes de los digitos del 0 al 9 mezcladas, mientras que ``y_train`` es un 1-D numpy array que contiene sus etiquetas respectivas. Podemos usar estos arreglos para muestrear $1200$ imágenes del dígito $0$ y $7$. En adición se crean sus vector de etiquetas."
   ],
   "metadata": {}
  },
  {
   "cell_type": "code",
   "execution_count": 200,
   "source": [
    "#Tensor de imagenes del dígito 0\n",
    "D0 = X_train[y_train==0]\n",
    "D0 = D0[:1200]\n",
    "y0 = np.zeros(1000, dtype=int)\n",
    "\n",
    "#Tensor de imagenes del dígito 7\n",
    "D7 = X_train[y_train==7]\n",
    "D7 = D7[:1200]\n",
    "y7 = np.ones(1000, dtype=int)"
   ],
   "outputs": [],
   "metadata": {}
  },
  {
   "cell_type": "markdown",
   "source": [
    "El tensor `D0` contiene $1200$ imagenes del digito $0$ cuya etiqueta asignada es $0$\n",
    "\n",
    "El tensor `D7` contiene $1200$ imagenes del digito $7$ cuya etiqueta asignada es $1$\n",
    "\n",
    "Ahora, definimos una función que imprime la imagen del dígito a tráves de su matriz de calor para comprobar que el indexado fue hecho de manera correcta (tambien mostramos su etiqueta respectiva)."
   ],
   "metadata": {}
  },
  {
   "cell_type": "code",
   "execution_count": 497,
   "source": [
    "def visualizar_imagen(matrix):\n",
    "    '''\n",
    "    Para visualizar en imagen el expectro de calor de una matriz\n",
    "    \n",
    "    Parámetros\n",
    "    -----------\n",
    "    matrix   :  2-D numpy array \n",
    "    \n",
    "    Regresa\n",
    "    -----------\n",
    "    Imprime imagen de la matriz\n",
    "    '''\n",
    "    fig = plt.figure(figsize=(2,2))\n",
    "    ax = fig.add_subplot(111)\n",
    "    ax.imshow(matrix, origin=\"upper\", interpolation=\"gaussian\")\n",
    "    ax.get_xaxis().set_visible(True)\n",
    "    ax.get_yaxis().set_visible(True)"
   ],
   "outputs": [],
   "metadata": {}
  },
  {
   "cell_type": "code",
   "execution_count": 162,
   "source": [
    "visualizar_imagen(D0[194]) \n",
    "visualizar_imagen(D7[194]) "
   ],
   "outputs": [
    {
     "output_type": "display_data",
     "data": {
      "image/png": "[encoded data removed]",
      "text/plain": [
       "<Figure size 144x144 with 1 Axes>"
      ]
     },
     "metadata": {
      "needs_background": "light"
     }
    },
    {
     "output_type": "display_data",
     "data": {
      "image/png": "[encoded data removed]",
      "text/plain": [
       "<Figure size 144x144 with 1 Axes>"
      ]
     },
     "metadata": {
      "needs_background": "light"
     }
    }
   ],
   "metadata": {
    "scrolled": true
   }
  },
  {
   "cell_type": "code",
   "execution_count": 163,
   "source": [
    "y0[194], y7[194]"
   ],
   "outputs": [
    {
     "output_type": "execute_result",
     "data": {
      "text/plain": [
       "(0, 1)"
      ]
     },
     "metadata": {},
     "execution_count": 163
    }
   ],
   "metadata": {}
  },
  {
   "cell_type": "markdown",
   "source": [
    "La siguiente función separa un base de datos en una array de tamaño ``num_sample`` y otro de tamaño ``num_data - num_samples`` que corresponden a los datos de entrenamiento y datos de validación respectivamente. Para el caso con nuestra matriz de digitos: ``num_data=1200`` y ``num_samples=1000``. "
   ],
   "metadata": {}
  },
  {
   "cell_type": "code",
   "execution_count": 256,
   "source": [
    "def sample_data(X, num_samples):\n",
    "    num_data = X.shape[0]\n",
    "    if num_samples >= num_data: return X, None\n",
    "    \n",
    "    sample = np.random.choice(num_data, num_samples, replace=False)\n",
    "    Xtrain = X[sample]\n",
    "    Xtest = X[np.setdiff1d(np.arange(0,num_data),sample)]\n",
    "    return Xtrain, Xtest"
   ],
   "outputs": [],
   "metadata": {}
  },
  {
   "cell_type": "code",
   "execution_count": 543,
   "source": [
    "#Datos del digito 0\n",
    "D0train, D0test = sample_data(D0, 1000)\n",
    "y0train = np.zeros(1000, dtype=int)\n",
    "y0test = np.zeros(200, dtype=int)\n",
    "\n",
    "#Datos del digito 7\n",
    "D7train, D7test = sample_data(D7, 1000)\n",
    "y7train = np.ones(1000, dtype=int)\n",
    "y7test = np.ones(200, dtype=int)"
   ],
   "outputs": [],
   "metadata": {}
  },
  {
   "cell_type": "markdown",
   "source": [
    "Para transformar nuestro 3-D array en una matriz de datos adecuada para los métodos a usar, construimos la función ``tensor_to_matrix`` que toma como argumento un tensor de dimensión $(n,m,k)$ (la base de datos mnist está organizada en un 3-D array) y regresa un 2-D array de dimensión $(mk,n)$  en donde cada columna se compone de los sub 2-D arrays vectorizados. Es decir, los estira y despues los apila en una matriz."
   ],
   "metadata": {}
  },
  {
   "cell_type": "code",
   "execution_count": 544,
   "source": [
    "def tensor_to_matrix(tensor):\n",
    "    '''\n",
    "    Transforma un tensor de n x m x k en una matriz m*k x n\n",
    "    \n",
    "    Parámetros\n",
    "    -----------\n",
    "    tensor  :  3-D numpy array de dimensión n x m x k\n",
    "    \n",
    "    Regresa\n",
    "    -----------\n",
    "    matrix  :  2-D numpy array de dimensión m*k x n\n",
    "    '''\n",
    "    n, m, k = tensor.shape\n",
    "    matrix = np.reshape(tensor[0],(m*k,1))\n",
    "    for i in range(1,n):\n",
    "        xcol = np.reshape(tensor[i], (m*k,1))\n",
    "        matrix = np.column_stack((matrix, xcol))\n",
    "    return matrix"
   ],
   "outputs": [],
   "metadata": {}
  },
  {
   "cell_type": "markdown",
   "source": [
    "Ahora, concatenamos ambas bases de datos ``D0train`` y ``D7train`` en una sola ``X`` para despues transformarla en una matriz de dimensión $(784,2000)$. Hacemos lo mismo para los datos de validacion."
   ],
   "metadata": {}
  },
  {
   "cell_type": "code",
   "execution_count": 545,
   "source": [
    "#Datos de entrenamiento\n",
    "Xtrain = tensor_to_matrix( np.vstack([D0train,D7train]) )\n",
    "ytrain = np.append(y0train,y7train)\n",
    "\n",
    "#Datos de validacion\n",
    "Xtest = tensor_to_matrix( np.vstack([D0test,D7test]) )\n",
    "ytest = np.append(y0test,y7test)"
   ],
   "outputs": [],
   "metadata": {}
  },
  {
   "cell_type": "markdown",
   "source": [
    "Para implementar el método de factorización de matrices no-negativas (NMF), basta llamar a la instrucción ``NMF`` de la librería ``sklearn.decomposition``. Probemos para una factorización con $r=20$"
   ],
   "metadata": {}
  },
  {
   "cell_type": "code",
   "execution_count": 546,
   "source": [
    "model = NMF(n_components = 20,init ='nndsvd', random_state=None, max_iter =10000)\n",
    "\n",
    "W = model.fit_transform(Xtrain)\n",
    "Htrain = model.components_\n",
    "\n",
    "W = model.fit_transform(Xtest)\n",
    "Htest = model.components_\n",
    "Htest = np.append(np.ones(400).reshape(400,1),Htest.T, axis=1)"
   ],
   "outputs": [],
   "metadata": {}
  },
  {
   "cell_type": "markdown",
   "source": [
    "Lo que se desea con NMF es una reducción en la dimensionalidad de la matriz ``X``. En este caso, las $2000$ columnas de la matriz $H$ obtenida, corresponderán a vectores característicos $x_i \\in \\mathbb{R}^r$ que pueden ser usados en la regresión logística como sigue:"
   ],
   "metadata": {}
  },
  {
   "cell_type": "code",
   "execution_count": 562,
   "source": [
    "fit = Logistic_Regression(Htrain.T, ytrain, alpha = 1e-3, max_iter =50)\n",
    "Htrain = np.append(np.ones(2000).reshape(2000,1),Htrain.T, axis=1)\n",
    "print(\"Error cuadratico en la prediccion\", error(fit[1], Htrain, ytrain) ) "
   ],
   "outputs": [
    {
     "output_type": "stream",
     "name": "stdout",
     "text": [
      "Error cuadratico en la prediccion 17.615622006285655\n"
     ]
    }
   ],
   "metadata": {}
  },
  {
   "cell_type": "markdown",
   "source": [
    "La gráfica de como luce la optimización de la función ``error``  para diferentes valores de ``alpha`` con Nesterov luce así:\n",
    "\n",
    "![Grafica](graf.png)\n",
    "\n",
    "Siendo ``alpha =1e-3`` el tamaño de paso con mejores resultados (este valor lo utilizaremos en el test estadistico). Finalmente medimos el porcentaje de clasificaciones bien hechas en ambos casos: datos de entrenamiento y datos de validación"
   ],
   "metadata": {}
  },
  {
   "cell_type": "code",
   "execution_count": 405,
   "source": [
    "def classification_accuracy(predict_labels, real_labels):\n",
    "    vpos = (predict_labels == real_labels)\n",
    "    return vpos[vpos==True].shape[0]/vpos.shape[0]"
   ],
   "outputs": [],
   "metadata": {}
  },
  {
   "cell_type": "code",
   "execution_count": 411,
   "source": [
    "#exatitud del modelo en los datos de entrenamiento\n",
    "print(\"% de aciertos en datos de entrenamiento: \",classification_accuracy(model[0], ytrain))\n",
    "\n",
    "#exatitud del modelo en los datos de validación\n",
    "predict_labels = predict(model[1],  Htest)\n",
    "print(\"% de aciertos en datos de validación: \",classification_accuracy(predict_labels, ytest))"
   ],
   "outputs": [
    {
     "output_type": "stream",
     "name": "stdout",
     "text": [
      "% de aciertos en datos de entrenamiento:  0.993\n",
      "% de aciertos en datos de validación:  0.75\n"
     ]
    }
   ],
   "metadata": {}
  },
  {
   "cell_type": "markdown",
   "source": [
    "Los resultados parecen prometedores. Con unas cuantas iteraciones se alcanzo una exactitud muy cercana al 99% en los datos de validación y una exactitud del 80% en los datos de validación. Cabe destacar que se pudo fijar un máximo de iteraciónes más grande que 50 para así haber alcanzado un 100% de exactitud en la prediccion de los datos de entrenamiento; pero esto, de hecho, es contraproducente debido a que el modelo de clasificación con regresión logística estaría sobre-ajustado sólo a estos datos en específico (overfitting) alcanzando una exactitud promedio muy pobre del 62% porciento en los de validación. Para demostrar nuestro punto, hagamos un test estadístico tomando varias muestras aleatorias de la base de datos y replicando el experimento de clasificación con ``Logistic_regression``. Las condiciones del experimento se fijan así: dimensión de la descomposición NMF `r=10`; numero de muestras de cada dígito para los datos de validación `num_sample=1000`; máximo de iteraciones con optimizador Nesterov `max_iter=50`; número de experimentos independientes `num_test = 500`. Estos fueron los resultados:"
   ],
   "metadata": {}
  },
  {
   "cell_type": "code",
   "execution_count": 498,
   "source": [
    "def Tests_Logistic_Regression(num_test, num_sample=1000, r=20):\n",
    "    num_data= 1200\n",
    "    model = NMF(n_components = r, init ='nndsvd', random_state=None, max_iter =1000)\n",
    "    validation = np.array([])\n",
    "    training = np.array([])\n",
    "    \n",
    "    #Etiquetas de entrenamiento\n",
    "    ytrain = np.append(np.zeros(num_sample, dtype=int), np.ones(num_sample, dtype=int))\n",
    "    \n",
    "    #Etiquetas de validación\n",
    "    ytest = np.append(np.zeros(num_data-num_sample, dtype=int), np.ones(num_data-num_sample, dtype=int))\n",
    "    \n",
    "    for itest in range(num_test):\n",
    "        progressBar(itest, num_test)\n",
    "        #Muestreo\n",
    "        D0train, D0test = sample_data(D0, num_sample)\n",
    "        D7train, D7test = sample_data(D7, num_sample)\n",
    "        \n",
    "        #Datos de entrenamiento\n",
    "        Xtrain = np.vstack([D0train,D7train])\n",
    "        Xtrain = tensor_to_matrix(Xtrain)\n",
    "        \n",
    "        #Datos de validación\n",
    "        Xtest = np.vstack([D0test,D7test])\n",
    "        Xtest = tensor_to_matrix(Xtest)\n",
    "        \n",
    "        #Factorizacion no-negativa\n",
    "        W = model.fit_transform(Xtrain)\n",
    "        Htrain = model.components_\n",
    "\n",
    "        W = model.fit_transform(Xtest)\n",
    "        Htest = model.components_\n",
    "        Htest = np.append(np.ones(2*(num_data-num_sample)).reshape(2*(num_data-num_sample),1), Htest.T, axis=1)\n",
    "        \n",
    "        #Regression Logistica\n",
    "        fit = Logistic_Regression(Htrain.T, ytrain, max_iter =50)\n",
    "        \n",
    "        #exatitud del modelo en los datos de entrenamiento\n",
    "        training = np.append(training, classification_accuracy(fit[0], ytrain))\n",
    "        #exatitud del modelo en los datos de validación\n",
    "        predict_labels = predict(fit[1],  Htest)\n",
    "        validation = np.append(validation, classification_accuracy(predict_labels, ytest))\n",
    "    \n",
    "    progressBar(num_test, num_test)\n",
    "    \n",
    "    plt.title('Histograma de exactitud en datos de entrenamiento')\n",
    "    plt.xlabel('% de exactitud')\n",
    "    plt.ylabel('Frecuencia')\n",
    "    plt.grid(True)\n",
    "    plt.hist(training, range=(0,1), density=True, bins=50)\n",
    "    plt.show()\n",
    "    print(\"mejor : \", training.max())\n",
    "    print(\"peor : \", training.min())\n",
    "    print(\"media : \", round(training.mean(),4) )\n",
    "    print(\"desv. est.: \", round(training.std(),4) )\n",
    "    \n",
    "    plt.title('Histograma de exactitud en datos de validación')\n",
    "    plt.xlabel('% de exactitud')\n",
    "    plt.ylabel('Frecuencia')\n",
    "    plt.grid(True)\n",
    "    plt.hist(validation, range=(0,1), density=True, bins=50, color='r')\n",
    "    plt.show()\n",
    "    print(\"mejor : \", validation.max())\n",
    "    print(\"peor : \", validation.min())\n",
    "    print(\"media : \", round(validation.mean(),4) )\n",
    "    print(\"desv. est.: \", round(validation.std(),4) )"
   ],
   "outputs": [],
   "metadata": {}
  },
  {
   "cell_type": "code",
   "execution_count": 500,
   "source": [
    "Tests_Logistic_Regression(500, 1000, 10)"
   ],
   "outputs": [
    {
     "output_type": "stream",
     "name": "stdout",
     "text": [
      "Percent: [------------------->] 100%"
     ]
    },
    {
     "output_type": "display_data",
     "data": {
      "image/png": "[encoded data removed]",
      "text/plain": [
       "<Figure size 432x288 with 1 Axes>"
      ]
     },
     "metadata": {
      "needs_background": "light"
     }
    },
    {
     "output_type": "stream",
     "name": "stdout",
     "text": [
      "mejor :  0.997\n",
      "peor :  0.9905\n",
      "media :  0.9933\n",
      "desv. est.:  0.0012\n"
     ]
    },
    {
     "output_type": "display_data",
     "data": {
      "image/png": "[encoded data removed]",
      "text/plain": [
       "<Figure size 432x288 with 1 Axes>"
      ]
     },
     "metadata": {
      "needs_background": "light"
     }
    },
    {
     "output_type": "stream",
     "name": "stdout",
     "text": [
      "mejor :  0.9975\n",
      "peor :  0.3275\n",
      "media :  0.7736\n",
      "desv. est.:  0.158\n"
     ]
    }
   ],
   "metadata": {}
  },
  {
   "cell_type": "code",
   "execution_count": 563,
   "source": [
    "Tests_Logistic_Regression(500, 1000, 10)"
   ],
   "outputs": [
    {
     "output_type": "stream",
     "name": "stdout",
     "text": [
      "Percent: [------------------->] 100%"
     ]
    },
    {
     "output_type": "display_data",
     "data": {
      "image/png": "[encoded data removed]",
      "text/plain": [
       "<Figure size 432x288 with 1 Axes>"
      ]
     },
     "metadata": {
      "needs_background": "light"
     }
    },
    {
     "output_type": "stream",
     "name": "stdout",
     "text": [
      "mejor :  0.9965\n",
      "peor :  0.99\n",
      "media :  0.9934\n",
      "desv. est.:  0.0012\n"
     ]
    },
    {
     "output_type": "display_data",
     "data": {
      "image/png": "[encoded data removed]",
      "text/plain": [
       "<Figure size 432x288 with 1 Axes>"
      ]
     },
     "metadata": {
      "needs_background": "light"
     }
    },
    {
     "output_type": "stream",
     "name": "stdout",
     "text": [
      "mejor :  1.0\n",
      "peor :  0.2675\n",
      "media :  0.7735\n",
      "desv. est.:  0.1625\n"
     ]
    }
   ],
   "metadata": {}
  },
  {
   "cell_type": "markdown",
   "source": [
    "Como pueden denotar los histogramas, en la mayoria de las veces el clasificador obtiene un predicción cercana al 99% en ambos casos; pero el promedio de nuestros experimentos se situa entre el 77% de exactitud; aun así, es un valor prometedor para una implementación sencilla de la regresión logística."
   ],
   "metadata": {}
  },
  {
   "cell_type": "code",
   "execution_count": null,
   "source": [],
   "outputs": [],
   "metadata": {}
  }
 ],
 "metadata": {
  "kernelspec": {
   "display_name": "Python 3",
   "language": "python",
   "name": "python3"
  },
  "language_info": {
   "codemirror_mode": {
    "name": "ipython",
    "version": 3
   },
   "file_extension": ".py",
   "mimetype": "text/x-python",
   "name": "python",
   "nbconvert_exporter": "python",
   "pygments_lexer": "ipython3",
   "version": "3.6.0"
  }
 },
 "nbformat": 4,
 "nbformat_minor": 2
}