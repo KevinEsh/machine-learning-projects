{
 "cells": [
  {
   "cell_type": "markdown",
   "source": [
    "# Sentiment Classification IMDb Recurrent Neural Networks\n",
    "\n",
    "Read the instructions and solve the problem below.\n",
    "\n",
    "## Info about IMDB Movie reviews sentiment classification\n",
    "Dataset of 25,000 movies reviews from IMDB, labeled by sentiment (positive/negative). Reviews have been preprocessed, and each review is encoded as a sequence of word indexes (integers). For convenience, words are indexed by overall frequency in the dataset, so that for instance the integer \"3\" encodes the 3rd most frequent word in the data. This allows for quick filtering operations such as: \"only consider the top 10,000 most common words, but eliminate the top 20 most common words\".\n",
    "\n",
    "As a convention, \"0\" does not stand for a specific word, but instead is used to encode any unknown word."
   ],
   "metadata": {}
  },
  {
   "cell_type": "code",
   "execution_count": 32,
   "source": [
    "from __future__ import print_function\n",
    "\n",
    "from keras.preprocessing import sequence\n",
    "from keras.models import Sequential\n",
    "from keras.layers import Dense, Embedding, LSTM, Activation\n",
    "from keras.datasets import imdb\n",
    "from keras.layers.wrappers import TimeDistributed"
   ],
   "outputs": [],
   "metadata": {}
  },
  {
   "cell_type": "code",
   "execution_count": 2,
   "source": [
    "max_features = 20000\n",
    "# cut texts after this number of words (among top max_features most common words)\n",
    "maxlen = 80\n",
    "batch_size = 32\n",
    "\n",
    "print('Loading data...')\n",
    "(x_train, y_train), (x_test, y_test) = imdb.load_data(num_words=max_features)\n",
    "\n",
    "x_train = x_train[:1500]\n",
    "y_train = y_train[:1500]\n",
    "x_test = x_test[:10000]\n",
    "y_test = y_test[:10000]\n",
    "\n",
    "print(len(x_train), 'train sequences')\n",
    "print(len(x_test), 'test sequences')\n",
    "\n",
    "print('Pad sequences (samples x time)')\n",
    "x_train = sequence.pad_sequences(x_train, maxlen=maxlen)\n",
    "x_test = sequence.pad_sequences(x_test, maxlen=maxlen)\n",
    "print('x_train shape:', x_train.shape)\n",
    "print('x_test shape:', x_test.shape)\n"
   ],
   "outputs": [
    {
     "output_type": "stream",
     "name": "stdout",
     "text": [
      "Loading data...\n",
      "1500 train sequences\n",
      "10000 test sequences\n",
      "Pad sequences (samples x time)\n",
      "x_train shape: (1500, 80)\n",
      "x_test shape: (10000, 80)\n"
     ]
    }
   ],
   "metadata": {}
  },
  {
   "cell_type": "markdown",
   "source": [
    "# Naive Baseline "
   ],
   "metadata": {}
  },
  {
   "cell_type": "code",
   "execution_count": 3,
   "source": [
    "import keras\n",
    "print('Build model...')\n",
    "model = Sequential()\n",
    "model.add(Embedding(max_features, 128))\n",
    "model.add(keras.layers.Lambda(lambda x: keras.backend.mean(x, axis=1)))\n",
    "model.add(Dense(128, activation='relu'))\n",
    "model.add(Dense(1, activation='sigmoid'))\n",
    "\n",
    "model.compile(loss='binary_crossentropy',\n",
    "              optimizer='adam',\n",
    "              metrics=['accuracy'])"
   ],
   "outputs": [
    {
     "output_type": "stream",
     "name": "stdout",
     "text": [
      "Build model...\n",
      "WARNING:tensorflow:From C:\\Anaconda3\\envs\\kerasgpu_env\\lib\\site-packages\\tensorflow\\python\\framework\\op_def_library.py:263: colocate_with (from tensorflow.python.framework.ops) is deprecated and will be removed in a future version.\n",
      "Instructions for updating:\n",
      "Colocations handled automatically by placer.\n"
     ]
    }
   ],
   "metadata": {}
  },
  {
   "cell_type": "code",
   "execution_count": 4,
   "source": [
    "print('Train...')\n",
    "model.fit(x_train, y_train,\n",
    "          batch_size=batch_size,\n",
    "          epochs=5,\n",
    "          validation_split=.1)\n",
    "          #validation_data=(x_test, y_test))\n",
    "score, acc = model.evaluate(x_test, y_test,\n",
    "                            batch_size=batch_size)\n",
    "print('Test score:', score)\n",
    "print('Test accuracy:', acc)"
   ],
   "outputs": [
    {
     "output_type": "stream",
     "name": "stdout",
     "text": [
      "Train...\n",
      "WARNING:tensorflow:From C:\\Anaconda3\\envs\\kerasgpu_env\\lib\\site-packages\\tensorflow\\python\\ops\\math_ops.py:3066: to_int32 (from tensorflow.python.ops.math_ops) is deprecated and will be removed in a future version.\n",
      "Instructions for updating:\n",
      "Use tf.cast instead.\n",
      "Train on 1350 samples, validate on 150 samples\n",
      "Epoch 1/5\n",
      "1350/1350 [==============================] - 8s 6ms/step - loss: 0.6899 - acc: 0.5844 - val_loss: 0.6910 - val_acc: 0.4467\n",
      "Epoch 2/5\n",
      "1350/1350 [==============================] - 1s 440us/step - loss: 0.6158 - acc: 0.8230 - val_loss: 0.5879 - val_acc: 0.7400\n",
      "Epoch 3/5\n",
      "1350/1350 [==============================] - 1s 423us/step - loss: 0.3558 - acc: 0.9407 - val_loss: 0.4490 - val_acc: 0.7733\n",
      "Epoch 4/5\n",
      "1350/1350 [==============================] - 1s 422us/step - loss: 0.1290 - acc: 0.9859 - val_loss: 0.4534 - val_acc: 0.7867\n",
      "Epoch 5/5\n",
      "1350/1350 [==============================] - 1s 419us/step - loss: 0.0450 - acc: 0.9993 - val_loss: 0.4893 - val_acc: 0.7867\n",
      "10000/10000 [==============================] - 1s 92us/step\n",
      "Test score: 0.48458081040382384\n",
      "Test accuracy: 0.7897\n"
     ]
    }
   ],
   "metadata": {}
  },
  {
   "cell_type": "markdown",
   "source": [
    "# Design a solution based in RNNs\n",
    "\n",
    "Try to outperform the above baseline by using a model based in some RNNs. You can tweak and explore with most of the elements in this notebook. For example, you could use more data to train your model, change the numer of epochs, the optimizer, etc. The only restriction is to keep the same test set.\n",
    "\n",
    "The ideal scenario is to outperform the baseline, or be very close to that performance.\n",
    "\n",
    "### Note: Provide a brief explanation about your solution and \"why\"/\"why not\" your proposal \"is\"/\"is not\" working. This description is going to be EQUALLY important than the code that you write."
   ],
   "metadata": {}
  },
  {
   "cell_type": "code",
   "execution_count": 83,
   "source": [
    "# Write your code here.\n",
    "print('Build model...')\n",
    "model = Sequential()\n",
    "model.add(Embedding(max_features, 128))\n",
    "model.add(LSTM(128, input_shape=(1500, 80), return_sequences=True))\n",
    "model.add(TimeDistributed(Dense(128))) #Check names to see how to load weights\n",
    "model.add(keras.layers.Lambda(lambda x: keras.backend.mean(x, axis=1)))\n",
    "model.add(Dense(128, activation='relu'))\n",
    "model.add(keras.layers.Dropout(0.5))\n",
    "model.add(Dense(1, activation='sigmoid'))\n",
    "model.summary()\n",
    "\n",
    "optimizer = keras.optimizers.RMSprop(lr=1e-3)\n",
    "\n",
    "model.compile(loss='binary_crossentropy',\n",
    "              optimizer=optimizer,\n",
    "              metrics=['accuracy'])"
   ],
   "outputs": [
    {
     "output_type": "stream",
     "name": "stdout",
     "text": [
      "Build model...\n",
      "_________________________________________________________________\n",
      "Layer (type)                 Output Shape              Param #   \n",
      "=================================================================\n",
      "embedding_40 (Embedding)     (None, None, 128)         2560000   \n",
      "_________________________________________________________________\n",
      "lstm_34 (LSTM)               (None, None, 128)         131584    \n",
      "_________________________________________________________________\n",
      "time_distributed_9 (TimeDist (None, None, 128)         16512     \n",
      "_________________________________________________________________\n",
      "lambda_27 (Lambda)           (None, 128)               0         \n",
      "_________________________________________________________________\n",
      "dense_73 (Dense)             (None, 128)               16512     \n",
      "_________________________________________________________________\n",
      "dropout_29 (Dropout)         (None, 128)               0         \n",
      "_________________________________________________________________\n",
      "dense_74 (Dense)             (None, 1)                 129       \n",
      "=================================================================\n",
      "Total params: 2,724,737\n",
      "Trainable params: 2,724,737\n",
      "Non-trainable params: 0\n",
      "_________________________________________________________________\n"
     ]
    }
   ],
   "metadata": {}
  },
  {
   "cell_type": "markdown",
   "source": [
    "Como primera propuesta para mejorar la red de clasificación de la base de datos de IMDB con sentiment analysis, fue agregar una capa LSTM (como es usual) para que la red puediera de cierta manera darle contexto a las opiniones de criticas. De la primera capa LSTM se obtienen un numero de outputs iguales a cada entrada de la oración con el fin de que la red reconociera la esturctura sintactica de una buena critica o una mala critica. Despues este output es procesado por otra capa densade 128 neuronas a la que se agrego un 50% de Dropout con el fin de que no se sobreajustara a los datos de entrenamientos. Finalmente se pasan a la ultima red que es la que clasifica el sentimiento. Los resultados se ven en la siguiente celda. El optimizador fue ajustado.\n",
    "\n",
    "Resultados: La red mostro un rendimiento más pobre que el intento Naive Baseline obteniendo un acc menor al 75%. Observamos un sobre ajuste de los datos de entrenamiento y, apesar de obtener val_acc de hasta casi un 82% de los datos, la presición de los datos de prueba no mejoró. Cremos que se debe a una mala estructura de la red y que nuestro intento se puede mejorar si se supiera como superar el sobreajuste."
   ],
   "metadata": {}
  },
  {
   "cell_type": "code",
   "execution_count": 84,
   "source": [
    "print('Train...')\n",
    "\n",
    "model.fit(x_train, y_train,\n",
    "          batch_size=batch_size,\n",
    "          epochs=5,\n",
    "          validation_split=.1)\n",
    "          #validation_data=(x_test, y_test))\n",
    "score, acc = model.evaluate(x_test, y_test,\n",
    "                            batch_size=batch_size)\n",
    "print('Test score:', score)\n",
    "print('Test accuracy:', acc)"
   ],
   "outputs": [
    {
     "output_type": "stream",
     "name": "stdout",
     "text": [
      "Train...\n",
      "Train on 1350 samples, validate on 150 samples\n",
      "Epoch 1/5\n",
      "1350/1350 [==============================] - 7s 5ms/step - loss: 0.6914 - acc: 0.5185 - val_loss: 0.6384 - val_acc: 0.7000\n",
      "Epoch 2/5\n",
      "1350/1350 [==============================] - 4s 3ms/step - loss: 0.4924 - acc: 0.8052 - val_loss: 1.0809 - val_acc: 0.6933\n",
      "Epoch 3/5\n",
      "1350/1350 [==============================] - 4s 3ms/step - loss: 0.2099 - acc: 0.9230 - val_loss: 0.4970 - val_acc: 0.7400\n",
      "Epoch 4/5\n",
      "1350/1350 [==============================] - 4s 3ms/step - loss: 0.0702 - acc: 0.9748 - val_loss: 1.0437 - val_acc: 0.7133\n",
      "Epoch 5/5\n",
      "1350/1350 [==============================] - 4s 3ms/step - loss: 0.0182 - acc: 0.9933 - val_loss: 0.9379 - val_acc: 0.7800\n",
      "10000/10000 [==============================] - 6s 557us/step\n",
      "Test score: 0.9990566026687622\n",
      "Test accuracy: 0.7413\n"
     ]
    }
   ],
   "metadata": {}
  },
  {
   "cell_type": "code",
   "execution_count": 80,
   "source": [
    "print('Build model...')\n",
    "model = Sequential()\n",
    "model.add(Embedding(max_features, 128))\n",
    "model.add(keras.layers.Lambda(lambda x: keras.backend.mean(x, axis=1)))\n",
    "model.add(keras.layers.Dropout(0.5))\n",
    "model.add(Dense(128, activation='relu'))\n",
    "model.add(Dense(1, activation='sigmoid'))\n",
    "\n",
    "optimizer = keras.optimizers.RMSprop(lr=2e-4)\n",
    "\n",
    "model.compile(loss='binary_crossentropy',\n",
    "              optimizer='adam',\n",
    "              metrics=['accuracy'])"
   ],
   "outputs": [
    {
     "output_type": "stream",
     "name": "stdout",
     "text": [
      "Build model...\n"
     ]
    }
   ],
   "metadata": {}
  },
  {
   "cell_type": "markdown",
   "source": [
    "Segundo intento: A la red Naive Baseline se le agredo Dropout en la penultima capa para superar el overfitting y se modifico el optimizador. Los resultados se muestran a continuación. \n",
    "\n",
    "Resultados: parece que la precision de red mejora en el conjunto de pruebas hasta obtener un 79% en los datos de prueba."
   ],
   "metadata": {}
  },
  {
   "cell_type": "code",
   "execution_count": 81,
   "source": [
    "print('Train...')\n",
    "\n",
    "model.fit(x_train, y_train,\n",
    "          batch_size=batch_size,\n",
    "          epochs=5,\n",
    "          validation_split=.1)\n",
    "          #validation_data=(x_test, y_test))\n",
    "score, acc = model.evaluate(x_test, y_test,\n",
    "                            batch_size=batch_size)\n",
    "print('Test score:', score)\n",
    "print('Test accuracy:', acc)"
   ],
   "outputs": [
    {
     "output_type": "stream",
     "name": "stdout",
     "text": [
      "Train...\n",
      "Train on 1350 samples, validate on 150 samples\n",
      "Epoch 1/5\n",
      "1350/1350 [==============================] - 3s 2ms/step - loss: 0.6924 - acc: 0.5015 - val_loss: 0.6927 - val_acc: 0.4467\n",
      "Epoch 2/5\n",
      "1350/1350 [==============================] - 0s 241us/step - loss: 0.6665 - acc: 0.6985 - val_loss: 0.6427 - val_acc: 0.7533\n",
      "Epoch 3/5\n",
      "1350/1350 [==============================] - 0s 233us/step - loss: 0.5245 - acc: 0.8652 - val_loss: 0.5196 - val_acc: 0.7667\n",
      "Epoch 4/5\n",
      "1350/1350 [==============================] - 0s 234us/step - loss: 0.2775 - acc: 0.9370 - val_loss: 0.4397 - val_acc: 0.8133\n",
      "Epoch 5/5\n",
      "1350/1350 [==============================] - 0s 234us/step - loss: 0.1307 - acc: 0.9696 - val_loss: 0.4693 - val_acc: 0.8000\n",
      "10000/10000 [==============================] - 0s 33us/step\n",
      "Test score: 0.458798303937912\n",
      "Test accuracy: 0.7919\n"
     ]
    }
   ],
   "metadata": {}
  },
  {
   "cell_type": "code",
   "execution_count": 14,
   "source": [],
   "outputs": [
    {
     "output_type": "execute_result",
     "data": {
      "text/plain": [
       "(1500, 80)"
      ]
     },
     "metadata": {},
     "execution_count": 14
    }
   ],
   "metadata": {}
  },
  {
   "cell_type": "code",
   "execution_count": null,
   "source": [],
   "outputs": [],
   "metadata": {}
  }
 ],
 "metadata": {
  "kernelspec": {
   "display_name": "Python 3",
   "language": "python",
   "name": "python3"
  },
  "language_info": {
   "codemirror_mode": {
    "name": "ipython",
    "version": 3
   },
   "file_extension": ".py",
   "mimetype": "text/x-python",
   "name": "python",
   "nbconvert_exporter": "python",
   "pygments_lexer": "ipython3",
   "version": "3.6.7"
  }
 },
 "nbformat": 4,
 "nbformat_minor": 2
}