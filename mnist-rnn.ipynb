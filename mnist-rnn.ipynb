{
 "cells": [
  {
   "cell_type": "markdown",
   "source": [
    "# MNIST Sequential Neural Network\n",
    "\n",
    "Use como guía el código siguiente y desarrolle\n",
    "\n",
    "1.1 Una red densa para clasificacion binaria entre los dígitos 4 y 9 con al menos igual desempeño que la red densa del código de ejemplo.\n",
    "\n",
    "1.2 Una red convolucional para clasificar los dígitos 4 y 9 con al menos igual desempeño que la red densa del punto 1.1.\n",
    "\n",
    "1.3 Compare la degradación del desempeño entre los diseños de los punto 1.1 y el 1.2 cuando se agrega ruido Gaussiano a las imágenes. Esto es, fijando la arquitectura, reenetrenelas para al menos 5 niveles de ruido distintos y gráfique su presicion. Use la desviación estandar como razón del rango dinámicos de las imágenes, $\\sigma = 0.0,  0.2, 0.4, 0.6,$ y $0.8$.\n"
   ],
   "metadata": {}
  },
  {
   "cell_type": "code",
   "execution_count": 10,
   "source": [
    "import numpy as np\n",
    "import matplotlib.pyplot as plt\n",
    "from keras.datasets import mnist\n",
    "from keras import models\n",
    "from keras import layers\n",
    "from keras.utils import to_categorical\n",
    "\n",
    "(train_images, train_labels), (test_images, test_labels) = mnist.load_data()\n",
    "\n",
    "train_images = train_images.reshape((60000, 28 * 28))\n",
    "train_images = train_images.astype('float32') / 255\n",
    "test_images  = test_images.reshape((10000, 28 * 28))\n",
    "test_images  = test_images.astype('float32') / 255\n",
    "train_labels = to_categorical(train_labels)\n",
    "test_labels  = to_categorical(test_labels)\n",
    "numIm, szIm  = train_images.shape\n",
    "\n",
    "nn = models.Sequential()    \n",
    "nn.add(layers.Dense(units=10,activation='relu', input_shape=(szIm,)))         \n",
    "nn.add(layers.Dense(units=10, activation='softmax'))\n",
    "\n",
    "nn.compile(optimizer='rmsprop',loss ='categorical_crossentropy',metrics  =['accuracy'])\n",
    "\n",
    "nn.fit(x = train_images, y = train_labels, validation_split=0.2,\n",
    "                 epochs = 10, shuffle = True, batch_size = 128)\n",
    "\n",
    "results = nn.evaluate(test_images, test_labels)\n",
    "\n",
    "print('loss: ', results[0])\n",
    "print('accuray: {}%'.format(results[1]*100))"
   ],
   "outputs": [
    {
     "output_type": "stream",
     "name": "stdout",
     "text": [
      "Train on 48000 samples, validate on 12000 samples\n",
      "Epoch 1/10\n",
      "48000/48000 [==============================] - 4s 88us/step - loss: 0.8357 - acc: 0.7823 - val_loss: 0.4137 - val_acc: 0.8921\n",
      "Epoch 2/10\n",
      "48000/48000 [==============================] - 3s 71us/step - loss: 0.3773 - acc: 0.8957 - val_loss: 0.3236 - val_acc: 0.9095\n",
      "Epoch 3/10\n",
      "48000/48000 [==============================] - 3s 69us/step - loss: 0.3219 - acc: 0.9092 - val_loss: 0.2920 - val_acc: 0.9181\n",
      "Epoch 4/10\n",
      "48000/48000 [==============================] - 4s 78us/step - loss: 0.2978 - acc: 0.9161 - val_loss: 0.2765 - val_acc: 0.9206\n",
      "Epoch 5/10\n",
      "48000/48000 [==============================] - 3s 70us/step - loss: 0.2823 - acc: 0.9199 - val_loss: 0.2658 - val_acc: 0.9252\n",
      "Epoch 6/10\n",
      "48000/48000 [==============================] - 3s 72us/step - loss: 0.2722 - acc: 0.9230 - val_loss: 0.2576 - val_acc: 0.9283\n",
      "Epoch 7/10\n",
      "48000/48000 [==============================] - 3s 72us/step - loss: 0.2637 - acc: 0.9258 - val_loss: 0.2625 - val_acc: 0.9249\n",
      "Epoch 8/10\n",
      "48000/48000 [==============================] - 4s 75us/step - loss: 0.2579 - acc: 0.9274 - val_loss: 0.2509 - val_acc: 0.9297\n",
      "Epoch 9/10\n",
      "48000/48000 [==============================] - 4s 77us/step - loss: 0.2524 - acc: 0.9286 - val_loss: 0.2487 - val_acc: 0.9312\n",
      "Epoch 10/10\n",
      "48000/48000 [==============================] - 3s 67us/step - loss: 0.2477 - acc: 0.9295 - val_loss: 0.2467 - val_acc: 0.9319\n",
      "10000/10000 [==============================] - 1s 80us/step\n",
      "loss:  0.2550721585392952\n",
      "accuray: 92.83%\n"
     ]
    }
   ],
   "metadata": {}
  },
  {
   "cell_type": "markdown",
   "source": [
    "## Respuestas\n",
    "\n",
    "### Respuesta a 1.1"
   ],
   "metadata": {}
  },
  {
   "cell_type": "code",
   "execution_count": 54,
   "source": [
    "def sample_data(X, y, samples, d1=4, d2=9):\n",
    "    y1 = y[:,d1]\n",
    "    y1 = y1.astype(bool)\n",
    "    y2 = y[:,d2]\n",
    "    y2 = y2.astype(bool)\n",
    "    \n",
    "    X1 = X[y1]\n",
    "    X2 = X[y2]\n",
    "    X1 = X1[:samples]\n",
    "    X2 = X2[:samples]\n",
    "    X_sample = np.r_[X1, X2]\n",
    "    \n",
    "    y1 = np.zeros(samples)\n",
    "    y2 = np.ones(samples)\n",
    "    \n",
    "    y_sample = np.r_[y1, y2]\n",
    "    y_sample = to_categorical(y_sample)\n",
    "    return X_sample, y_sample"
   ],
   "outputs": [],
   "metadata": {}
  },
  {
   "cell_type": "code",
   "execution_count": 81,
   "source": [
    "print(train_images.shape)\n",
    "X_train, y_train = sample_data(train_images, train_labels, 2000, d1=4, d2=9) #Muestreamos los digitos 4 y 9\n",
    "X_test, y_test = sample_data(test_images, test_labels, 900, d1=4, d2=9) #Muestreamos los digitos 4 y 9\n",
    "print(X_train.shape)\n",
    "print(y_train.shape)\n",
    "print(X_test.shape)\n",
    "print(y_test.shape)"
   ],
   "outputs": [
    {
     "output_type": "stream",
     "name": "stdout",
     "text": [
      "(60000, 784)\n",
      "(4000, 784)\n",
      "(4000, 2)\n",
      "(1800, 784)\n",
      "(1800, 2)\n"
     ]
    }
   ],
   "metadata": {}
  },
  {
   "cell_type": "code",
   "execution_count": 106,
   "source": [
    "def dense_net(X_train, y_train, X_test, y_test, verbose=1):\n",
    "    network = models.Sequential()    \n",
    "    network.add(layers.Dense(units=32, activation='relu', input_shape=(szIm,)))\n",
    "    network.add(layers.Dropout(0.5))\n",
    "    network.add(layers.Dense(units=64,activation='relu'))\n",
    "    network.add(layers.Dense(units=2, activation='softmax'))\n",
    "\n",
    "    network.compile(optimizer='rmsprop',loss ='categorical_crossentropy',metrics  =['accuracy'])\n",
    "\n",
    "    network.fit(x = X_train, y = y_train, validation_split=0.2, epochs = 10, shuffle = True, batch_size = 128,verbose=verbose)\n",
    "\n",
    "    results = network.evaluate(X_test, y_test)\n",
    "\n",
    "    print('loss: ', results[0])\n",
    "    print('accuray: {}%'.format(results[1]*100))\n",
    "    return results[1]*100"
   ],
   "outputs": [],
   "metadata": {}
  },
  {
   "cell_type": "code",
   "execution_count": 108,
   "source": [
    "dense_net(X_train, y_train, X_test, y_test)"
   ],
   "outputs": [
    {
     "output_type": "stream",
     "name": "stdout",
     "text": [
      "Train on 3200 samples, validate on 800 samples\n",
      "Epoch 1/10\n",
      "3200/3200 [==============================] - 2s 543us/step - loss: 0.4607 - acc: 0.7891 - val_loss: 0.5084 - val_acc: 0.8100\n",
      "Epoch 2/10\n",
      "3200/3200 [==============================] - 0s 73us/step - loss: 0.2306 - acc: 0.9184 - val_loss: 0.3305 - val_acc: 0.9000\n",
      "Epoch 3/10\n",
      "3200/3200 [==============================] - 0s 82us/step - loss: 0.1590 - acc: 0.9462 - val_loss: 0.1941 - val_acc: 0.9400\n",
      "Epoch 4/10\n",
      "3200/3200 [==============================] - 0s 92us/step - loss: 0.1231 - acc: 0.9625 - val_loss: 0.1438 - val_acc: 0.9600\n",
      "Epoch 5/10\n",
      "3200/3200 [==============================] - 0s 92us/step - loss: 0.1138 - acc: 0.9594 - val_loss: 0.1616 - val_acc: 0.9550\n",
      "Epoch 6/10\n",
      "3200/3200 [==============================] - 0s 86us/step - loss: 0.0947 - acc: 0.9691 - val_loss: 0.1918 - val_acc: 0.9450\n",
      "Epoch 7/10\n",
      "3200/3200 [==============================] - 0s 84us/step - loss: 0.0876 - acc: 0.9731 - val_loss: 0.2915 - val_acc: 0.9187\n",
      "Epoch 8/10\n",
      "3200/3200 [==============================] - 0s 99us/step - loss: 0.0755 - acc: 0.9753 - val_loss: 0.1583 - val_acc: 0.9613\n",
      "Epoch 9/10\n",
      "3200/3200 [==============================] - 0s 93us/step - loss: 0.0748 - acc: 0.9744 - val_loss: 0.2023 - val_acc: 0.9437\n",
      "Epoch 10/10\n",
      "3200/3200 [==============================] - 0s 96us/step - loss: 0.0596 - acc: 0.9784 - val_loss: 0.2721 - val_acc: 0.9287\n",
      "1800/1800 [==============================] - 0s 136us/step\n",
      "loss:  0.11120782630084755\n",
      "accuray: 96.22222222222221%\n"
     ]
    },
    {
     "output_type": "execute_result",
     "data": {
      "text/plain": [
       "96.22222222222221"
      ]
     },
     "metadata": {},
     "execution_count": 108
    }
   ],
   "metadata": {}
  },
  {
   "cell_type": "markdown",
   "source": [
    "### Respuesta a 1.2"
   ],
   "metadata": {}
  },
  {
   "cell_type": "code",
   "execution_count": 107,
   "source": [
    "#Trasnformación de Matriz tensor de imagenes\n",
    "X1_train = X_train.reshape(2000*2, 28, 28, 1)\n",
    "X2_test = X_test.reshape(900*2, 28, 28, 1)"
   ],
   "outputs": [],
   "metadata": {}
  },
  {
   "cell_type": "code",
   "execution_count": 137,
   "source": [
    "def cov_net(X_train, y_train, X_test, y_test, verbose=1):\n",
    "    network1 = models.Sequential()\n",
    "    network1.add(layers.Conv2D(128, kernel_size=(3,3), activation='relu', input_shape=(28, 28,1)))\n",
    "    network1.add(layers.MaxPooling2D((2, 2)))\n",
    "    network1.add(layers.Conv2D(64, kernel_size=(3,3), activation='relu'))\n",
    "    network1.add(layers.MaxPooling2D((2, 2)))\n",
    "    network1.add(layers.Conv2D(64, kernel_size=(3,3), activation='relu'))\n",
    "    network1.add(layers.Flatten())\n",
    "    network1.add(layers.Dense(2, activation='softmax'))\n",
    "\n",
    "\n",
    "    network1.compile(optimizer='rmsprop',loss ='categorical_crossentropy',metrics  =['accuracy'])\n",
    "\n",
    "    network1.fit(x = X_train, y = y_train, validation_split=0.2, epochs = 10, shuffle = True, batch_size = 128, verbose=verbose)\n",
    "\n",
    "    results = network1.evaluate(X_test, y_test)\n",
    "\n",
    "    print('loss: ', results[0])\n",
    "    print('accuray: {}%'.format(results[1]*100))\n",
    "    return results[1]*100"
   ],
   "outputs": [],
   "metadata": {}
  },
  {
   "cell_type": "code",
   "execution_count": 110,
   "source": [
    "cov_net(X1_train, y_train, X2_test, y_test)"
   ],
   "outputs": [
    {
     "output_type": "stream",
     "name": "stdout",
     "text": [
      "Train on 3200 samples, validate on 800 samples\n",
      "Epoch 1/10\n",
      "3200/3200 [==============================] - 4s 1ms/step - loss: 0.3188 - acc: 0.8578 - val_loss: 0.0209 - val_acc: 1.0000\n",
      "Epoch 2/10\n",
      "3200/3200 [==============================] - 2s 687us/step - loss: 0.0592 - acc: 0.9834 - val_loss: 0.0175 - val_acc: 0.9950\n",
      "Epoch 3/10\n",
      "3200/3200 [==============================] - 2s 712us/step - loss: 0.0322 - acc: 0.9888 - val_loss: 0.0526 - val_acc: 0.9800\n",
      "Epoch 4/10\n",
      "3200/3200 [==============================] - 2s 713us/step - loss: 0.0238 - acc: 0.9922 - val_loss: 0.0235 - val_acc: 0.9900\n",
      "Epoch 5/10\n",
      "3200/3200 [==============================] - 2s 714us/step - loss: 0.0218 - acc: 0.9925 - val_loss: 0.0468 - val_acc: 0.9825\n",
      "Epoch 6/10\n",
      "3200/3200 [==============================] - 2s 718us/step - loss: 0.0154 - acc: 0.9956 - val_loss: 0.0228 - val_acc: 0.9938\n",
      "Epoch 7/10\n",
      "3200/3200 [==============================] - 2s 716us/step - loss: 0.0106 - acc: 0.9975 - val_loss: 0.0073 - val_acc: 0.9975\n",
      "Epoch 8/10\n",
      "3200/3200 [==============================] - 2s 717us/step - loss: 0.0111 - acc: 0.9959 - val_loss: 0.0062 - val_acc: 0.9975\n",
      "Epoch 9/10\n",
      "3200/3200 [==============================] - 2s 692us/step - loss: 0.0108 - acc: 0.9966 - val_loss: 0.0255 - val_acc: 0.9900\n",
      "Epoch 10/10\n",
      "3200/3200 [==============================] - 2s 723us/step - loss: 0.0044 - acc: 0.9991 - val_loss: 0.0107 - val_acc: 0.9962\n",
      "1800/1800 [==============================] - 0s 205us/step\n",
      "loss:  0.012819020398211351\n",
      "accuray: 99.55555555555556%\n"
     ]
    },
    {
     "output_type": "execute_result",
     "data": {
      "text/plain": [
       "99.55555555555556"
      ]
     },
     "metadata": {},
     "execution_count": 110
    }
   ],
   "metadata": {}
  },
  {
   "cell_type": "markdown",
   "source": [
    "### Respuesta a 1.3"
   ],
   "metadata": {}
  },
  {
   "cell_type": "code",
   "execution_count": 111,
   "source": [
    "import matplotlib.pyplot as plt"
   ],
   "outputs": [],
   "metadata": {}
  },
  {
   "cell_type": "code",
   "execution_count": 135,
   "source": [
    "def comparison(sigma=[0.0,0.2,0.4,0.6,0.8], verbose=0):\n",
    "    den, cov = [],[]\n",
    "    for s in sigma:\n",
    "        den.append(dense_net(X_train + np.random.normal(scale=s, size=(4000,784)), y_train, X_test, y_test, verbose))\n",
    "        cov.append(cov_net(X1_train + np.random.normal(scale=s, size=(4000,28,28,1)), y_train, X2_test, y_test, verbose))\n",
    "        \n",
    "    plt.plot(sigma, den)\n",
    "    plt.plot(sigma, cov)\n",
    "    plt.legend([\"densa\", \"covnet\"])\n",
    "    plt.xlabel(\"$\\sigma$ (ruido gauss)\")\n",
    "    plt.ylabel(\"$test acc$ (desempeño)\")"
   ],
   "outputs": [],
   "metadata": {}
  },
  {
   "cell_type": "code",
   "execution_count": 138,
   "source": [
    "comparison()"
   ],
   "outputs": [
    {
     "output_type": "stream",
     "name": "stdout",
     "text": [
      "1800/1800 [==============================] - 0s 160us/step\n",
      "loss:  0.07734487788894007\n",
      "accuray: 97.16666666666667%\n",
      "1800/1800 [==============================] - 0s 227us/step\n",
      "loss:  0.01213952445662244\n",
      "accuray: 99.66666666666667%\n",
      "1800/1800 [==============================] - 0s 131us/step\n",
      "loss:  0.10218497757421574\n",
      "accuray: 96.77777777777777%\n",
      "1800/1800 [==============================] - 0s 274us/step\n",
      "loss:  0.024705001468116102\n",
      "accuray: 99.11111111111111%\n",
      "1800/1800 [==============================] - 0s 106us/step\n",
      "loss:  0.10978065650114634\n",
      "accuray: 95.94444444444444%\n",
      "1800/1800 [==============================] - 0s 243us/step\n",
      "loss:  0.012854142657840333\n",
      "accuray: 99.55555555555556%\n",
      "1800/1800 [==============================] - 0s 141us/step\n",
      "loss:  0.12769417143944237\n",
      "accuray: 95.05555555555556%\n",
      "1800/1800 [==============================] - 0s 222us/step\n",
      "loss:  0.013135800134401103\n",
      "accuray: 99.55555555555556%\n",
      "1800/1800 [==============================] - 0s 136us/step\n",
      "loss:  0.20986101723379558\n",
      "accuray: 93.94444444444444%\n",
      "1800/1800 [==============================] - 0s 224us/step\n",
      "loss:  0.016882010206852177\n",
      "accuray: 99.27777777777777%\n"
     ]
    },
    {
     "output_type": "display_data",
     "data": {
      "image/png": "[encoded data removed]",
      "text/plain": [
       "<Figure size 432x288 with 1 Axes>"
      ]
     },
     "metadata": {
      "needs_background": "light"
     }
    }
   ],
   "metadata": {}
  },
  {
   "cell_type": "markdown",
   "source": [
    "Como podemos observar de la grafica, el desempeño de la red densa se ve altamente afectado por el ruido aplicado a los datos de entrenamiento. Por el otro caso, la red convolucional ni siquiera se pudo sentir el ruido aplicado a las imagenes de los datos por lo que es mas robusta. Concluimos que para el tratamiento de redes neuronales con datos de imagenes, es mejor aplicar redes convolucionales, debido a que pueden filtar este tipo de patrones con mejor eficacia que las redes densas."
   ],
   "metadata": {}
  },
  {
   "cell_type": "code",
   "execution_count": null,
   "source": [],
   "outputs": [],
   "metadata": {}
  }
 ],
 "metadata": {
  "kernelspec": {
   "display_name": "Python 3",
   "language": "python",
   "name": "python3"
  },
  "language_info": {
   "codemirror_mode": {
    "name": "ipython",
    "version": 3
   },
   "file_extension": ".py",
   "mimetype": "text/x-python",
   "name": "python",
   "nbconvert_exporter": "python",
   "pygments_lexer": "ipython3",
   "version": "3.6.7"
  }
 },
 "nbformat": 4,
 "nbformat_minor": 2
}